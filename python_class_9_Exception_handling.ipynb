{
  "nbformat": 4,
  "nbformat_minor": 0,
  "metadata": {
    "colab": {
      "provenance": [],
      "authorship_tag": "ABX9TyPdEpug71h35v5RUv9npqKA",
      "include_colab_link": true
    },
    "kernelspec": {
      "name": "python3",
      "display_name": "Python 3"
    },
    "language_info": {
      "name": "python"
    }
  },
  "cells": [
    {
      "cell_type": "markdown",
      "metadata": {
        "id": "view-in-github",
        "colab_type": "text"
      },
      "source": [
        "<a href=\"https://colab.research.google.com/github/Raviawana/python-tutorial/blob/main/python_class_9_Exception_handling.ipynb\" target=\"_parent\"><img src=\"https://colab.research.google.com/assets/colab-badge.svg\" alt=\"Open In Colab\"/></a>"
      ]
    },
    {
      "cell_type": "markdown",
      "source": [
        "- Introduction To Exception Handling\n",
        "- Exception Handling Keywords\n",
        "- Exception Handling Syntax\n",
        "- Handling Multiple Exceptions\n",
        "- Handling All Exceptions \n",
        "- Using Exception Object\n",
        "- Getting Details Of Exception\n",
        "- Raising An Exception\n",
        "- Using finally Block\n",
        "- Creating User Defined Exceptions\n"
      ],
      "metadata": {
        "id": "dt9rj7mOWAaA"
      }
    },
    {
      "cell_type": "markdown",
      "source": [
        "## 14.1 Errors and Exception Handling\n",
        "\n",
        "In this section, we will learn about Errors and Exception Handling in Python. You've might have definitely encountered errors by this point in the course. For example:"
      ],
      "metadata": {
        "id": "17zI2O0MxK0Q"
      }
    },
    {
      "cell_type": "code",
      "source": [
        "print('Hello')"
      ],
      "metadata": {
        "colab": {
          "base_uri": "https://localhost:8080/"
        },
        "id": "vJX7e-DdxT1X",
        "outputId": "f985f492-e7a4-4515-f64b-dfc19c1b3c41"
      },
      "execution_count": null,
      "outputs": [
        {
          "output_type": "stream",
          "name": "stdout",
          "text": [
            "Hello\n"
          ]
        }
      ]
    },
    {
      "cell_type": "code",
      "source": [
        "print('Hello)"
      ],
      "metadata": {
        "colab": {
          "base_uri": "https://localhost:8080/",
          "height": 130
        },
        "id": "dJg6W16KxXMH",
        "outputId": "c3a10bb4-09dc-48f0-e93d-c81fdc7c706c"
      },
      "execution_count": null,
      "outputs": [
        {
          "output_type": "error",
          "ename": "SyntaxError",
          "evalue": "ignored",
          "traceback": [
            "\u001b[0;36m  File \u001b[0;32m\"<ipython-input-20-db8c9988558c>\"\u001b[0;36m, line \u001b[0;32m1\u001b[0m\n\u001b[0;31m    print('Hello)\u001b[0m\n\u001b[0m          ^\u001b[0m\n\u001b[0;31mSyntaxError\u001b[0m\u001b[0;31m:\u001b[0m unterminated string literal (detected at line 1)\n"
          ]
        }
      ]
    },
    {
      "cell_type": "markdown",
      "source": [
        "Note how we get a SyntaxError, with the further description that it was an End of Line Error (EOL) while scanning the string literal. This is specific enough for us to see that we forgot a single quote at the end of the line. Understanding of these various error types will help you debug your code much faster. \n",
        "\n",
        "This type of error and description is known as an Exception. Even if a statement or expression is syntactically correct, it may cause an error when an attempt is made to execute it. Errors detected during execution are called exceptions and are not unconditionally fatal."
      ],
      "metadata": {
        "id": "mOne4RgexMXc"
      }
    },
    {
      "cell_type": "markdown",
      "source": [
        "| Exception | description   |\n",
        "|------|------|\n",
        "|   Exception  | Base class of exception. Allother exception derived from this class.|\n",
        "|   ArithmeticError  | Base class for those exceptions that are raised for arithmetic or numeric errors.|\n",
        "|   ZeroDivisionError  | Raised when division or modulo operation is zero|\n",
        "|   ModuleNotFoundError  | Raised by import when imported module could not be located|\n",
        "|   KeyError  | Raised when a mapping (dictionary) key is not found in keys of a dictionary.|\n",
        "|   MemoryError  | Raised when an operation runs out of memory|"
      ],
      "metadata": {
        "id": "qy4RkjaTxMwY"
      }
    },
    {
      "cell_type": "markdown",
      "source": [
        "In python the code works in the way-\n",
        "\n",
        "SOURCE CODE -> COMPILER -> BYTE CODE -> INTERPTR"
      ],
      "metadata": {
        "id": "lPShVDhtWuU4"
      }
    },
    {
      "cell_type": "markdown",
      "source": [
        "You can check out the full list of built-in exceptions [here](https://docs.python.org/3.8/library/exceptions.html). Now, let's learn how to handle errors and exceptions in our own code."
      ],
      "metadata": {
        "id": "Yt9xyLuyxur2"
      }
    },
    {
      "cell_type": "markdown",
      "source": [
        "In python, There are two popular saying for code styles:-\n",
        "\n",
        "1) LBYL\n",
        "\n",
        "2) EAFP"
      ],
      "metadata": {
        "id": "g2XRTHDAxvcI"
      }
    },
    {
      "cell_type": "markdown",
      "source": [
        "### LBYL\n",
        "\n",
        "Look before you leap. \n",
        "This coding style explicitly tests for pre-conditions before making calls or lookups. This style contrasts with the EAFP approach and is characterized by the presence of many if statements.\n",
        "\n",
        "In a multi-threaded environment, the LBYL approach can risk introducing a race condition between “the looking” and “the leaping”. For example, the code, if key in mapping: return mapping[key] can fail if another thread removes key from mapping after the test, but before the lookup. This issue can be solved with locks or by using the EAFP approach.\n",
        "\n",
        "For this, you can refer in python documentation:-\n",
        ">** https://docs.python.org/3/glossary.html **\n",
        "\n",
        "In a simple language, we first check what we are going to do. For example, if we want to check if a file is available before trying to write:\n",
        "\n",
        "```python\n",
        " if filename:\n",
        "     with open()..\n",
        "     ....\n",
        "```"
      ],
      "metadata": {
        "id": "shqE_QuJxvgq"
      }
    },
    {
      "cell_type": "markdown",
      "source": [
        "### EAFP\n",
        "\n",
        "Easier to ask for forgiveness than permission. \n",
        "\n",
        "This common Python coding style assumes the existence of valid keys or attributes and catches exceptions if the assumption proves false. This clean and fast style is characterized by the presence of many try and except statements. The technique contrasts with the LBYL style common to many other languages such as C. \n",
        "\n",
        "In a simple language,EAFP is like we first write our code so that it performs and executes first, and then we will take care of the consequences if it doesn't work. That means we try running some code, expecting it to work, but if it failes then will handle it in exception in except block.\n",
        "\n",
        "```python\n",
        "try:\n",
        "     with open(filename,'r').. # First executes\n",
        "     ....\n",
        " except:\n",
        "     # handling exception\n",
        "```"
      ],
      "metadata": {
        "id": "gBK5awbqx2D9"
      }
    },
    {
      "cell_type": "markdown",
      "source": [
        "## 14.2 try and except\n",
        "\n",
        "The basic terminology and syntax used to handle errors in Python is the **try** and **except** statements. The code which can cause an exception to occur is put in the *try* block and the handling of the exception are the implemented in the *except* block of code. The syntax form is:\n",
        "\n",
        "    try:\n",
        "       You do your operations here...\n",
        "       ...\n",
        "    except ExceptionI:\n",
        "       If there is ExceptionI, then execute this block.\n",
        "    except ExceptionII:\n",
        "       If there is ExceptionII, then execute this block.\n",
        "       ...\n",
        "    else:\n",
        "       If there is no exception then execute this block. \n",
        "\n",
        "\n",
        "Using just except, we can check for any exception: To understand better let's check out a sample code that opens and writes a file:"
      ],
      "metadata": {
        "id": "MsUhTxQmx2Ld"
      }
    },
    {
      "cell_type": "markdown",
      "source": [],
      "metadata": {
        "id": "hoIY1ZSNx2Vh"
      }
    },
    {
      "cell_type": "code",
      "source": [
        "a=10 \n",
        "b=20 \n",
        "c= a+b\n",
        "print(c)\n",
        "      \n",
        "      \n",
        "      "
      ],
      "metadata": {
        "colab": {
          "base_uri": "https://localhost:8080/"
        },
        "id": "Fcy0Oa0TWRHx",
        "outputId": "6e57ce9a-3331-4ad5-afcf-49c291a1f916"
      },
      "execution_count": null,
      "outputs": [
        {
          "output_type": "stream",
          "name": "stdout",
          "text": [
            "30\n"
          ]
        }
      ]
    },
    {
      "cell_type": "code",
      "source": [
        "# Synthex error is when compiler detects it\n",
        "a=2\n",
        "b=3\n",
        "c=a+b\n",
        "print(c"
      ],
      "metadata": {
        "colab": {
          "base_uri": "https://localhost:8080/",
          "height": 130
        },
        "id": "8BLu8_YgXwCo",
        "outputId": "de617d52-bfdc-4c93-80a9-81aee649750b"
      },
      "execution_count": null,
      "outputs": [
        {
          "output_type": "error",
          "ename": "SyntaxError",
          "evalue": "ignored",
          "traceback": [
            "\u001b[0;36m  File \u001b[0;32m\"<ipython-input-2-291488407b7d>\"\u001b[0;36m, line \u001b[0;32m5\u001b[0m\n\u001b[0;31m    print(c\u001b[0m\n\u001b[0m           ^\u001b[0m\n\u001b[0;31mSyntaxError\u001b[0m\u001b[0;31m:\u001b[0m incomplete input\n"
          ]
        }
      ]
    },
    {
      "cell_type": "code",
      "source": [
        "# But **RUN TIME ERROR** is like\n",
        "a=10\n",
        "b='ravi'\n",
        "c=a+b\n",
        "print(c)    "
      ],
      "metadata": {
        "colab": {
          "base_uri": "https://localhost:8080/",
          "height": 217
        },
        "id": "vVRht8FvYOhx",
        "outputId": "e48a990f-827c-4db0-ef49-e2aa9e77b310"
      },
      "execution_count": null,
      "outputs": [
        {
          "output_type": "error",
          "ename": "TypeError",
          "evalue": "ignored",
          "traceback": [
            "\u001b[0;31m---------------------------------------------------------------------------\u001b[0m",
            "\u001b[0;31mTypeError\u001b[0m                                 Traceback (most recent call last)",
            "\u001b[0;32m<ipython-input-3-febc4eb73e58>\u001b[0m in \u001b[0;36m<cell line: 4>\u001b[0;34m()\u001b[0m\n\u001b[1;32m      2\u001b[0m \u001b[0ma\u001b[0m\u001b[0;34m=\u001b[0m\u001b[0;36m10\u001b[0m\u001b[0;34m\u001b[0m\u001b[0;34m\u001b[0m\u001b[0m\n\u001b[1;32m      3\u001b[0m \u001b[0mb\u001b[0m\u001b[0;34m=\u001b[0m\u001b[0;34m'ravi'\u001b[0m\u001b[0;34m\u001b[0m\u001b[0;34m\u001b[0m\u001b[0m\n\u001b[0;32m----> 4\u001b[0;31m \u001b[0mc\u001b[0m\u001b[0;34m=\u001b[0m\u001b[0ma\u001b[0m\u001b[0;34m+\u001b[0m\u001b[0mb\u001b[0m\u001b[0;34m\u001b[0m\u001b[0;34m\u001b[0m\u001b[0m\n\u001b[0m\u001b[1;32m      5\u001b[0m \u001b[0mprint\u001b[0m\u001b[0;34m(\u001b[0m\u001b[0mc\u001b[0m\u001b[0;34m)\u001b[0m\u001b[0;34m\u001b[0m\u001b[0;34m\u001b[0m\u001b[0m\n",
            "\u001b[0;31mTypeError\u001b[0m: unsupported operand type(s) for +: 'int' and 'str'"
          ]
        }
      ]
    },
    {
      "cell_type": "markdown",
      "source": [
        "So can we say **run time error** is a **exception**\n",
        "\n",
        "So the process of handling this type of exception is called exception handling"
      ],
      "metadata": {
        "id": "JqpqEXfCZA4W"
      }
    },
    {
      "cell_type": "code",
      "source": [
        "a=int(input('enter first number'))\n",
        "b=int(input('enter second number'))\n",
        "c=a/b\n",
        "print(c)"
      ],
      "metadata": {
        "colab": {
          "base_uri": "https://localhost:8080/"
        },
        "id": "oOkEdzYtY3qK",
        "outputId": "4c07822f-c4bd-4e7e-c022-48a4c800802e"
      },
      "execution_count": null,
      "outputs": [
        {
          "output_type": "stream",
          "name": "stdout",
          "text": [
            "enter first number80\n",
            "enter second number90\n",
            "0.8888888888888888\n"
          ]
        }
      ]
    },
    {
      "cell_type": "code",
      "source": [
        "# here is a example of run time error or exception if we take one number '0'\n",
        "a=int(input('enter first number'))\n",
        "b=int(input('enter second number'))\n",
        "c=a/b\n",
        "print(c)"
      ],
      "metadata": {
        "colab": {
          "base_uri": "https://localhost:8080/",
          "height": 252
        },
        "id": "Fl8G2Ju5dnuS",
        "outputId": "26d10537-727b-4b98-9c2f-9a43ac058723"
      },
      "execution_count": null,
      "outputs": [
        {
          "name": "stdout",
          "output_type": "stream",
          "text": [
            "enter first number100\n",
            "enter second number0\n"
          ]
        },
        {
          "output_type": "error",
          "ename": "ZeroDivisionError",
          "evalue": "ignored",
          "traceback": [
            "\u001b[0;31m---------------------------------------------------------------------------\u001b[0m",
            "\u001b[0;31mZeroDivisionError\u001b[0m                         Traceback (most recent call last)",
            "\u001b[0;32m<ipython-input-6-e134a403f64d>\u001b[0m in \u001b[0;36m<cell line: 4>\u001b[0;34m()\u001b[0m\n\u001b[1;32m      2\u001b[0m \u001b[0ma\u001b[0m\u001b[0;34m=\u001b[0m\u001b[0mint\u001b[0m\u001b[0;34m(\u001b[0m\u001b[0minput\u001b[0m\u001b[0;34m(\u001b[0m\u001b[0;34m'enter first number'\u001b[0m\u001b[0;34m)\u001b[0m\u001b[0;34m)\u001b[0m\u001b[0;34m\u001b[0m\u001b[0;34m\u001b[0m\u001b[0m\n\u001b[1;32m      3\u001b[0m \u001b[0mb\u001b[0m\u001b[0;34m=\u001b[0m\u001b[0mint\u001b[0m\u001b[0;34m(\u001b[0m\u001b[0minput\u001b[0m\u001b[0;34m(\u001b[0m\u001b[0;34m'enter second number'\u001b[0m\u001b[0;34m)\u001b[0m\u001b[0;34m)\u001b[0m\u001b[0;34m\u001b[0m\u001b[0;34m\u001b[0m\u001b[0m\n\u001b[0;32m----> 4\u001b[0;31m \u001b[0mc\u001b[0m\u001b[0;34m=\u001b[0m\u001b[0ma\u001b[0m\u001b[0;34m/\u001b[0m\u001b[0mb\u001b[0m\u001b[0;34m\u001b[0m\u001b[0;34m\u001b[0m\u001b[0m\n\u001b[0m\u001b[1;32m      5\u001b[0m \u001b[0mprint\u001b[0m\u001b[0;34m(\u001b[0m\u001b[0mc\u001b[0m\u001b[0;34m)\u001b[0m\u001b[0;34m\u001b[0m\u001b[0;34m\u001b[0m\u001b[0m\n",
            "\u001b[0;31mZeroDivisionError\u001b[0m: division by zero"
          ]
        }
      ]
    },
    {
      "cell_type": "markdown",
      "source": [
        "As we can observe , in the second run the code generated exception because Python does not know how to handle division by 0. Moreover it did not even calculated the sum of 10 and 0 which is possible\n"
      ],
      "metadata": {
        "id": "i0c0hz_iyv5k"
      }
    },
    {
      "cell_type": "code",
      "source": [],
      "metadata": {
        "id": "LcPqG0eve-R0"
      },
      "execution_count": null,
      "outputs": []
    },
    {
      "cell_type": "code",
      "source": [],
      "metadata": {
        "id": "exY-MMZWe-QM"
      },
      "execution_count": null,
      "outputs": []
    },
    {
      "cell_type": "code",
      "source": [
        "a=int(input('enter first number'))\n",
        "b=int(input('enter second number'))\n",
        "c=a/b\n",
        "print(c)\n",
        "d=a*b\n",
        "print(d)"
      ],
      "metadata": {
        "colab": {
          "base_uri": "https://localhost:8080/"
        },
        "id": "17xC20uJeLs7",
        "outputId": "c6545c17-566a-48bc-c98c-3bc1d93fb85f"
      },
      "execution_count": null,
      "outputs": [
        {
          "output_type": "stream",
          "name": "stdout",
          "text": [
            "enter first number100\n",
            "enter second number2\n",
            "50.0\n",
            "200\n"
          ]
        }
      ]
    },
    {
      "cell_type": "code",
      "source": [
        "a=int(input('enter first number'))\n",
        "b=int(input('enter second number'))\n",
        "c=a/b\n",
        "print(c)\n",
        "d=a*b\n",
        "print(d)\n",
        "# Now if we take one of the number '0' than the result is againerror  but  multiply should be done , at thid time exception handelling is imp"
      ],
      "metadata": {
        "colab": {
          "base_uri": "https://localhost:8080/",
          "height": 269
        },
        "id": "ssjR5CH1e6MX",
        "outputId": "efe8b852-a86e-4a8e-dd00-2944ebc572f9"
      },
      "execution_count": null,
      "outputs": [
        {
          "name": "stdout",
          "output_type": "stream",
          "text": [
            "enter first number100\n",
            "enter second number0\n"
          ]
        },
        {
          "output_type": "error",
          "ename": "ZeroDivisionError",
          "evalue": "ignored",
          "traceback": [
            "\u001b[0;31m---------------------------------------------------------------------------\u001b[0m",
            "\u001b[0;31mZeroDivisionError\u001b[0m                         Traceback (most recent call last)",
            "\u001b[0;32m<ipython-input-8-d04e198a2942>\u001b[0m in \u001b[0;36m<cell line: 3>\u001b[0;34m()\u001b[0m\n\u001b[1;32m      1\u001b[0m \u001b[0ma\u001b[0m\u001b[0;34m=\u001b[0m\u001b[0mint\u001b[0m\u001b[0;34m(\u001b[0m\u001b[0minput\u001b[0m\u001b[0;34m(\u001b[0m\u001b[0;34m'enter first number'\u001b[0m\u001b[0;34m)\u001b[0m\u001b[0;34m)\u001b[0m\u001b[0;34m\u001b[0m\u001b[0;34m\u001b[0m\u001b[0m\n\u001b[1;32m      2\u001b[0m \u001b[0mb\u001b[0m\u001b[0;34m=\u001b[0m\u001b[0mint\u001b[0m\u001b[0;34m(\u001b[0m\u001b[0minput\u001b[0m\u001b[0;34m(\u001b[0m\u001b[0;34m'enter second number'\u001b[0m\u001b[0;34m)\u001b[0m\u001b[0;34m)\u001b[0m\u001b[0;34m\u001b[0m\u001b[0;34m\u001b[0m\u001b[0m\n\u001b[0;32m----> 3\u001b[0;31m \u001b[0mc\u001b[0m\u001b[0;34m=\u001b[0m\u001b[0ma\u001b[0m\u001b[0;34m/\u001b[0m\u001b[0mb\u001b[0m\u001b[0;34m\u001b[0m\u001b[0;34m\u001b[0m\u001b[0m\n\u001b[0m\u001b[1;32m      4\u001b[0m \u001b[0mprint\u001b[0m\u001b[0;34m(\u001b[0m\u001b[0mc\u001b[0m\u001b[0;34m)\u001b[0m\u001b[0;34m\u001b[0m\u001b[0;34m\u001b[0m\u001b[0m\n\u001b[1;32m      5\u001b[0m \u001b[0md\u001b[0m\u001b[0;34m=\u001b[0m\u001b[0ma\u001b[0m\u001b[0;34m*\u001b[0m\u001b[0mb\u001b[0m\u001b[0;34m\u001b[0m\u001b[0;34m\u001b[0m\u001b[0m\n",
            "\u001b[0;31mZeroDivisionError\u001b[0m: division by zero"
          ]
        }
      ]
    },
    {
      "cell_type": "markdown",
      "source": [
        "In bigger projects is very imp\n",
        "\n",
        "So there are five five keywords by which we gonna do exception handelling-\n",
        "\n",
        "-try\n",
        "\n",
        "-except\n",
        "\n",
        "-else\n",
        "\n",
        "-raise\n",
        "\n",
        "-finally"
      ],
      "metadata": {
        "id": "x-b9p8ZRgyuw"
      }
    },
    {
      "cell_type": "markdown",
      "source": [
        "### What Is An Exception ?"
      ],
      "metadata": {
        "id": "UieJL46HyVNz"
      }
    },
    {
      "cell_type": "markdown",
      "source": [
        "Exception are errors that occur at runtime .\n",
        "\n",
        "\n",
        "\n",
        "In other words , if our program encounters an abnormal situation during it’s execution it raises an exception.\n",
        "\n",
        "\n",
        "For example,the statement \n",
        "        \n",
        "        a=10/0 \n",
        "\n",
        "will generate an exception because Python has no way to solve division by 0\n"
      ],
      "metadata": {
        "id": "kVofFUMyyYSc"
      }
    },
    {
      "cell_type": "markdown",
      "source": [
        "### What Python Does When An Exception Occurs ?"
      ],
      "metadata": {
        "id": "77OfHeQqye9q"
      }
    },
    {
      "cell_type": "markdown",
      "source": [
        "Whenever an exception occurs , Python does 2 things :\n",
        "\n",
        "It immediately terminates the code\n",
        "\n",
        "It displays the error message related to the exception in a technical way\n",
        "\n",
        "Both the steps taken by Python cannot be considered user friendly because\n",
        "Even if a statement generates exception , still other parts of the program must get a chance to run\n",
        "\n",
        "The error message must be simpler for the user to understand\n"
      ],
      "metadata": {
        "id": "7rxo9x0eyfp8"
      }
    },
    {
      "cell_type": "markdown",
      "source": [
        "### How To Handle \n",
        "\n",
        "Such Situations ?"
      ],
      "metadata": {
        "id": "LKePzjziyftH"
      }
    },
    {
      "cell_type": "markdown",
      "source": [
        "If we want our program to behave normally , even if an exception occurs , then we will have to apply     Exception Handling\n",
        "\n",
        "\n",
        "Exception handling is a mechanism which allows us to handle errors gracefully while the program is running instead of abruptly ending the program execution.\n",
        "\n",
        "\n"
      ],
      "metadata": {
        "id": "tmUoo_asy4mC"
      }
    },
    {
      "cell_type": "markdown",
      "source": [
        "Python provides 5 keywords to perform Exception Handling:\n",
        "\n",
        "try\n",
        "\n",
        "except\n",
        "\n",
        "else\n",
        "\n",
        "raise\n",
        "\n",
        "finally\n"
      ],
      "metadata": {
        "id": "1QUhh95uy4wQ"
      }
    },
    {
      "cell_type": "markdown",
      "source": [
        "Following is the syntax of a Python try-except-else block.\n",
        "\n",
        "try: \n",
        "\n",
        "\tYou do your operations here; \n",
        "\t...................... \n",
        "except ExceptionI:\n",
        "\n",
        "\tIf there is ExceptionI, then execute this block.\n",
        "    \n",
        "except ExceptionII:\n",
        "\n",
        "\tIf there is ExceptionII, then execute this block. \n",
        "\t...................... \n",
        "else:\n",
        "\n",
        "\tIf there is no exception then execute this block.\n"
      ],
      "metadata": {
        "id": "wPd42h1FzHGS"
      }
    },
    {
      "cell_type": "markdown",
      "source": [
        "Remember ! \n",
        "In place of Exception I and Exception II , we have to use the names of Exception classes in Python\n"
      ],
      "metadata": {
        "id": "MzsznhZfzOxr"
      }
    },
    {
      "cell_type": "code",
      "source": [
        "a=int(input('enter first number'))\n",
        "b=int(input('enter second number'))\n",
        "try:\n",
        "  c=a/b          # The exception we are getting is in this line so we put this in try block\n",
        "  print(c)\n",
        "except:\n",
        "  print(\"b should not be a zero\")  "
      ],
      "metadata": {
        "colab": {
          "base_uri": "https://localhost:8080/"
        },
        "id": "AdEhCRoSgcfQ",
        "outputId": "7faa7f61-f730-4a10-a3b3-0707e4919655"
      },
      "execution_count": null,
      "outputs": [
        {
          "output_type": "stream",
          "name": "stdout",
          "text": [
            "enter first number10\n",
            "enter second number0\n",
            "b should not be a zero\n"
          ]
        }
      ]
    },
    {
      "cell_type": "markdown",
      "source": [
        "AND THAT LARGE ERROR MESSAGE IS ALSO GONE"
      ],
      "metadata": {
        "id": "x4W38HJYk6zV"
      }
    },
    {
      "cell_type": "code",
      "source": [
        "a=int(input('enter first number'))\n",
        "b=int(input('enter second number'))\n",
        "try:\n",
        "  c=a/b          \n",
        "  print(c))\n",
        "except:\n",
        "  print(\"wrong syntax\")\n",
        "  d=a+b \n",
        "  # We can't be able to run this d=a+b and it is not giving this  print this that we wwant here because this is a complier based error  "
      ],
      "metadata": {
        "colab": {
          "base_uri": "https://localhost:8080/",
          "height": 130
        },
        "id": "U4_zDEY-kAUJ",
        "outputId": "86f75299-7326-43b3-dc07-ed51af0ad365"
      },
      "execution_count": null,
      "outputs": [
        {
          "output_type": "error",
          "ename": "SyntaxError",
          "evalue": "ignored",
          "traceback": [
            "\u001b[0;36m  File \u001b[0;32m\"<ipython-input-2-3f0c8b273512>\"\u001b[0;36m, line \u001b[0;32m5\u001b[0m\n\u001b[0;31m    print(c))\u001b[0m\n\u001b[0m            ^\u001b[0m\n\u001b[0;31mSyntaxError\u001b[0m\u001b[0;31m:\u001b[0m unmatched ')'\n"
          ]
        }
      ]
    },
    {
      "cell_type": "code",
      "source": [
        "# That means we can't handle syntax error by thsese except,etc"
      ],
      "metadata": {
        "id": "uT3DirSIXs0U"
      },
      "execution_count": null,
      "outputs": []
    },
    {
      "cell_type": "markdown",
      "source": [
        "![image.png](attachment:image.png)"
      ],
      "metadata": {
        "id": "d9jBwdkUzcA2"
      }
    },
    {
      "cell_type": "code",
      "source": [
        "a=int(input('enter first number'))\n",
        "b=int(input('enter second number'))\n",
        "try:\n",
        "  c=a/b         \n",
        "  print(c)\n",
        "except:\n",
        "  print(\"b should not be a zero\") \n",
        "d=a+b\n",
        "print(d) "
      ],
      "metadata": {
        "colab": {
          "base_uri": "https://localhost:8080/"
        },
        "id": "eRN1cuYwYQv3",
        "outputId": "5dcd498f-8f66-4478-fcef-69f55d5f5021"
      },
      "execution_count": null,
      "outputs": [
        {
          "output_type": "stream",
          "name": "stdout",
          "text": [
            "enter first number10\n",
            "enter second number0\n",
            "b should not be a zero\n",
            "10\n"
          ]
        }
      ]
    },
    {
      "cell_type": "code",
      "source": [
        "a=int(input('enter your first number here - '))\n",
        "b=int(input('enter your second number here - '))\n",
        "try:\n",
        "  c=a/b\n",
        "  print(c)\n",
        "  d=a+b\n",
        "  print(d)\n",
        "except ZeroDivisionError:\n",
        "  print('b should not be zero')\n",
        "except valueerror:\n",
        "  print('values must be int')\n"
      ],
      "metadata": {
        "colab": {
          "base_uri": "https://localhost:8080/"
        },
        "id": "kQVsNPAsYav2",
        "outputId": "9841b1a7-bdde-45cc-fd16-afb97db6760c"
      },
      "execution_count": null,
      "outputs": [
        {
          "output_type": "stream",
          "name": "stdout",
          "text": [
            "enter your first number here - 100\n",
            "enter your second number here - 15\n",
            "6.666666666666667\n",
            "115\n"
          ]
        }
      ]
    },
    {
      "cell_type": "markdown",
      "source": [
        "A try statement may have more than one except clause for different exceptions.But at most one except clause will be executed\n"
      ],
      "metadata": {
        "id": "h7BDO8BRzlF0"
      }
    },
    {
      "cell_type": "markdown",
      "source": [
        "Also , we must remember that if we are handling parent and child exception classes in except clause then the parent exception must appear after child exception , otherwise child except will never get a chance to run\n",
        "\n"
      ],
      "metadata": {
        "id": "p_opfoChzm8P"
      }
    },
    {
      "cell_type": "code",
      "source": [
        "a=int(input('enter your first number here - '))\n",
        "b=int(input('enter your second number here - '))\n",
        "try:\n",
        "  c=a/b\n",
        "  print(c)\n",
        "  d=a+str(b)\n",
        "  print(d)\n",
        "except (ZeroDivisionError,TypeError):\n",
        "  print('b should not be zero or values must be int')\n"
      ],
      "metadata": {
        "colab": {
          "base_uri": "https://localhost:8080/"
        },
        "id": "rsqTqANEeGDR",
        "outputId": "893e8efe-9cf6-48f8-9836-f013df72aa56"
      },
      "execution_count": null,
      "outputs": [
        {
          "output_type": "stream",
          "name": "stdout",
          "text": [
            "enter your first number here - 100\n",
            "enter your second number here - 100\n",
            "1.0\n",
            "b should not be zero or values must be int\n"
          ]
        }
      ]
    },
    {
      "cell_type": "markdown",
      "source": [
        "###Question \n",
        "\n",
        "Write a program to ask the user to input 2 integers and calculate and print their division. Make sure your program behaves as follows\n",
        "\n",
        "\n",
        "• If the user enters a non integer value then ask him to enter only integers\n",
        "\n",
        "\n",
        "• If denominator is 0, then ask him to input non-zero denominator\n",
        "\n",
        "only if the inputs are correct then display their division and terminate the code"
      ],
      "metadata": {
        "id": "qPjVsWQ-3bPn"
      }
    },
    {
      "cell_type": "code",
      "source": [
        "while True :\n",
        "  a=int(input('enter first number'))\n",
        "  b=int(input('enter second number'))\n",
        "  try:\n",
        "    c=a/b\n",
        "    print(c)\n",
        "    break\n",
        "  except ZeroDivisionError:\n",
        "    print('non zero denomitor')\n",
        "  except TypeError:\n",
        "    print('there should not be sstring')  "
      ],
      "metadata": {
        "colab": {
          "base_uri": "https://localhost:8080/"
        },
        "id": "BXLXkI_B3amL",
        "outputId": "8964d968-c130-49db-d056-6b9e82ed0065"
      },
      "execution_count": null,
      "outputs": [
        {
          "output_type": "stream",
          "name": "stdout",
          "text": [
            "enter first number100\n",
            "enter second number0\n",
            "non zero denomitor\n",
            "enter first number100\n",
            "enter second number200\n",
            "0.5\n"
          ]
        }
      ]
    },
    {
      "cell_type": "code",
      "source": [
        "while True :\n",
        "\n",
        "  try:\n",
        "    a=int(input('enter first number'))\n",
        "    b=int(input('enter second number'))\n",
        "    c=a/b\n",
        "    print(c)\n",
        "    break\n",
        "  except ZeroDivisionError:\n",
        "    print('non zero denomitor')\n",
        "  except ValueError:\n",
        "    print('there should not be sstring')  "
      ],
      "metadata": {
        "colab": {
          "base_uri": "https://localhost:8080/"
        },
        "id": "9rn7JTZLiSCv",
        "outputId": "112b2afc-a66a-42e3-87e1-e056ba10525d"
      },
      "execution_count": null,
      "outputs": [
        {
          "output_type": "stream",
          "name": "stdout",
          "text": [
            "enter first number100\n",
            "enter second numbera\n",
            "there should not be sstring\n",
            "enter first number100\n",
            "enter second numberD\n",
            "there should not be sstring\n",
            "enter first number100\n",
            "enter second number10\n",
            "10.0\n"
          ]
        }
      ]
    },
    {
      "cell_type": "code",
      "source": [
        "while True:\n",
        "  try:\n",
        "    a=int(input('enter your first number -'))\n",
        "    b=int(input('enter your second number -'))\n",
        "    c=a/b\n",
        "    print('div:',c)\n",
        "    break\n",
        "  except ZeroDivisionError as e:\n",
        "    print(e)\n",
        "\n",
        "# In this we haven't mentioned any  text but we are able to get answer\n"
      ],
      "metadata": {
        "id": "0GMFw_Pv6vi5",
        "colab": {
          "base_uri": "https://localhost:8080/"
        },
        "outputId": "8b7ac93c-2b43-4c15-e2d5-095e29e978bc"
      },
      "execution_count": 3,
      "outputs": [
        {
          "output_type": "stream",
          "name": "stdout",
          "text": [
            "enter your first number -100\n",
            "enter your second number -0\n",
            "division by zero\n",
            "enter your first number -20\n",
            "enter your second number -0\n",
            "division by zero\n",
            "enter your first number -100\n",
            "enter your second number -2\n",
            "div: 50.0\n"
          ]
        }
      ]
    },
    {
      "cell_type": "code",
      "source": [
        "\n",
        " import sys\n",
        " while True:\n",
        "  try:\n",
        "    a=int(input('enter your first number -'))\n",
        "    b=int(input('enter your second number -'))\n",
        "    c=a/b\n",
        "    print('div:',c)\n",
        "    break\n",
        "  except:\n",
        "    print(sys.exc_info())\n",
        "    \n",
        "# SYS is a module it will give details of error which is useful in debugging in projects"
      ],
      "metadata": {
        "colab": {
          "base_uri": "https://localhost:8080/"
        },
        "id": "O1zZPaUoEuwg",
        "outputId": "ee730262-4aff-4542-aae0-29ef9af84c3f"
      },
      "execution_count": 5,
      "outputs": [
        {
          "output_type": "stream",
          "name": "stdout",
          "text": [
            "enter your first number -100\n",
            "enter your second number -0\n",
            "(<class 'ZeroDivisionError'>, ZeroDivisionError('division by zero'), <traceback object at 0x7f44276ee140>)\n",
            "enter your first number -100\n",
            "enter your second number -100\n",
            "div: 1.0\n"
          ]
        }
      ]
    },
    {
      "cell_type": "code",
      "source": [
        " "
      ],
      "metadata": {
        "id": "Ox1B4_m0nfUj"
      },
      "execution_count": null,
      "outputs": []
    },
    {
      "cell_type": "markdown",
      "source": [
        "Someone already made this 'sys' module we are just importing and using it \n",
        "\n",
        "modules are of two types \n",
        "\n",
        "1-built in \n",
        "2 -custom made\n",
        "\n",
        "\n",
        "as of now we used 'sys.exc.info()\n",
        "now we will use another one that will also give same output\n",
        "i.e \"traceback.format_exc()"
      ],
      "metadata": {
        "id": "KRDEJszTq4v0"
      }
    },
    {
      "cell_type": "code",
      "source": [
        "import traceback\n",
        "while True:\n",
        "  try:\n",
        "    a=int(input('enter your first number -'))\n",
        "    b=int(input('enter your second number -'))\n",
        "    c=a/b\n",
        "    print('div:',c)\n",
        "    break\n",
        "  except:\n",
        "    print(traceback.format_exc())"
      ],
      "metadata": {
        "colab": {
          "base_uri": "https://localhost:8080/"
        },
        "id": "XnpXr4NAq5rJ",
        "outputId": "9af88a29-b72e-4e64-de3f-d6b87bab48c6"
      },
      "execution_count": 8,
      "outputs": [
        {
          "output_type": "stream",
          "name": "stdout",
          "text": [
            "enter your first number -100\n",
            "enter your second number -0\n",
            "Traceback (most recent call last):\n",
            "  File \"<ipython-input-8-516f075ad44c>\", line 6, in <cell line: 2>\n",
            "    c=a/b\n",
            "ZeroDivisionError: division by zero\n",
            "\n",
            "enter your first number -100\n",
            "enter your second number -100\n",
            "div: 1.0\n"
          ]
        }
      ]
    },
    {
      "cell_type": "code",
      "source": [
        "# Whenever we will work in projects these types of modules gives us discreption of exception and helps us alot."
      ],
      "metadata": {
        "id": "_XQXNsPcuESN"
      },
      "execution_count": 9,
      "outputs": []
    },
    {
      "cell_type": "code",
      "source": [
        "# raise exception it is a custom exception"
      ],
      "metadata": {
        "id": "WN8uHl0QvH3b"
      },
      "execution_count": 10,
      "outputs": []
    },
    {
      "cell_type": "code",
      "source": [
        "a= int(input( 'first number'))\n",
        "b=int(input('second number'))\n",
        "c=a/b\n",
        "print(c)\n",
        "# if we have to mention that first number should't be zero so we have to put here an exception"
      ],
      "metadata": {
        "colab": {
          "base_uri": "https://localhost:8080/"
        },
        "id": "hcopWeapwnVB",
        "outputId": "9cab1edf-a8ff-40ab-b562-475c465bd371"
      },
      "execution_count": 12,
      "outputs": [
        {
          "output_type": "stream",
          "name": "stdout",
          "text": [
            "first number0\n",
            "second number10\n",
            "0.0\n"
          ]
        }
      ]
    },
    {
      "cell_type": "code",
      "source": [
        "while True:\n",
        "  try:\n",
        "    a=int(input('first number  :'))\n",
        "    b=int(input('second number  :'))\n",
        "    if a<0 or b<0:\n",
        "      raise Exception('neg number not allowed')\n",
        "    c=a/b\n",
        "    print('div is',c)\n",
        "    break\n",
        "  except ValueError:\n",
        "    print('please enter int only')\n",
        "  except ZeroDivisionError:\n",
        "    print('please enter non zero denomitor')\n",
        "  except Exception as e:\n",
        "    print(e)    "
      ],
      "metadata": {
        "colab": {
          "base_uri": "https://localhost:8080/"
        },
        "id": "nC-pSWmkvcKd",
        "outputId": "4ec0ecf2-5a59-480f-fcba-13e747572e79"
      },
      "execution_count": 16,
      "outputs": [
        {
          "output_type": "stream",
          "name": "stdout",
          "text": [
            "first number  :10\n",
            "second number  :0\n",
            "please enter non zero denomitor\n",
            "first number  :10\n",
            "second number  :a\n",
            "please enter int only\n",
            "first number  :10\n",
            "second number  :-10\n",
            "neg number not allowed\n",
            "first number  :1321654\n",
            "second number  :1313\n",
            "div is 1006.5910129474486\n"
          ]
        }
      ]
    },
    {
      "cell_type": "code",
      "source": [
        "# custom exception\n",
        "#insted of using built in name we can give our own name \n",
        "while True:\n",
        "  try:\n",
        "    a=int(input('first number  :'))\n",
        "    b=int(input('second number  :'))\n",
        "    if a<0 or b<0:\n",
        "      raise NegNumberException('neg number not allowed')\n",
        "    c=a/b\n",
        "    print('div is',c)\n",
        "    break\n",
        "  except ValueError:\n",
        "    print('please enter int only')\n",
        "  except ZeroDivisionError:\n",
        "    print('please enter non zero denomitor')\n",
        "  except NegNumberException-Exception as e:\n",
        "    print(e)  "
      ],
      "metadata": {
        "colab": {
          "base_uri": "https://localhost:8080/",
          "height": 426
        },
        "id": "BaKinw1ozibZ",
        "outputId": "6b51b67f-68a5-468b-85ce-66ed1256bab3"
      },
      "execution_count": 18,
      "outputs": [
        {
          "name": "stdout",
          "output_type": "stream",
          "text": [
            "first number  :131564\n",
            "second number  :-464\n"
          ]
        },
        {
          "output_type": "error",
          "ename": "NameError",
          "evalue": "ignored",
          "traceback": [
            "\u001b[0;31m---------------------------------------------------------------------------\u001b[0m",
            "\u001b[0;31mNameError\u001b[0m                                 Traceback (most recent call last)",
            "\u001b[0;32m<ipython-input-18-e692db68c55d>\u001b[0m in \u001b[0;36m<cell line: 3>\u001b[0;34m()\u001b[0m\n\u001b[1;32m      7\u001b[0m     \u001b[0;32mif\u001b[0m \u001b[0ma\u001b[0m\u001b[0;34m<\u001b[0m\u001b[0;36m0\u001b[0m \u001b[0;32mor\u001b[0m \u001b[0mb\u001b[0m\u001b[0;34m<\u001b[0m\u001b[0;36m0\u001b[0m\u001b[0;34m:\u001b[0m\u001b[0;34m\u001b[0m\u001b[0;34m\u001b[0m\u001b[0m\n\u001b[0;32m----> 8\u001b[0;31m       \u001b[0;32mraise\u001b[0m \u001b[0mNegNumberException\u001b[0m\u001b[0;34m(\u001b[0m\u001b[0;34m'neg number not allowed'\u001b[0m\u001b[0;34m)\u001b[0m\u001b[0;34m\u001b[0m\u001b[0;34m\u001b[0m\u001b[0m\n\u001b[0m\u001b[1;32m      9\u001b[0m     \u001b[0mc\u001b[0m\u001b[0;34m=\u001b[0m\u001b[0ma\u001b[0m\u001b[0;34m/\u001b[0m\u001b[0mb\u001b[0m\u001b[0;34m\u001b[0m\u001b[0;34m\u001b[0m\u001b[0m\n",
            "\u001b[0;31mNameError\u001b[0m: name 'NegNumberException' is not defined",
            "\nDuring handling of the above exception, another exception occurred:\n",
            "\u001b[0;31mNameError\u001b[0m                                 Traceback (most recent call last)",
            "\u001b[0;32m<ipython-input-18-e692db68c55d>\u001b[0m in \u001b[0;36m<cell line: 3>\u001b[0;34m()\u001b[0m\n\u001b[1;32m     14\u001b[0m   \u001b[0;32mexcept\u001b[0m \u001b[0mZeroDivisionError\u001b[0m\u001b[0;34m:\u001b[0m\u001b[0;34m\u001b[0m\u001b[0;34m\u001b[0m\u001b[0m\n\u001b[1;32m     15\u001b[0m     \u001b[0mprint\u001b[0m\u001b[0;34m(\u001b[0m\u001b[0;34m'please enter non zero denomitor'\u001b[0m\u001b[0;34m)\u001b[0m\u001b[0;34m\u001b[0m\u001b[0;34m\u001b[0m\u001b[0m\n\u001b[0;32m---> 16\u001b[0;31m   \u001b[0;32mexcept\u001b[0m \u001b[0mNegNumberExceptionException\u001b[0m \u001b[0;32mas\u001b[0m \u001b[0me\u001b[0m\u001b[0;34m:\u001b[0m\u001b[0;34m\u001b[0m\u001b[0;34m\u001b[0m\u001b[0m\n\u001b[0m\u001b[1;32m     17\u001b[0m     \u001b[0mprint\u001b[0m\u001b[0;34m(\u001b[0m\u001b[0me\u001b[0m\u001b[0;34m)\u001b[0m\u001b[0;34m\u001b[0m\u001b[0;34m\u001b[0m\u001b[0m\n",
            "\u001b[0;31mNameError\u001b[0m: name 'NegNumberExceptionException' is not defined"
          ]
        }
      ]
    },
    {
      "cell_type": "markdown",
      "source": [
        "###Exception class in python already they have define and we are calling this class"
      ],
      "metadata": {
        "id": "LUYxuP353I2S"
      }
    },
    {
      "cell_type": "markdown",
      "source": [
        "##if you are going to define this class in your code so it will run"
      ],
      "metadata": {
        "id": "WApwCX5g3NfL"
      }
    },
    {
      "cell_type": "code",
      "source": [
        "class NegativeNumberException(Exception):\n",
        "  pass"
      ],
      "metadata": {
        "id": "_zi3pqK13Ii_"
      },
      "execution_count": 21,
      "outputs": []
    },
    {
      "cell_type": "code",
      "source": [
        "while True:\n",
        "  try:\n",
        "    a=int(input('first number  :'))\n",
        "    b=int(input('second number  :'))\n",
        "    if a<0 or b<0:\n",
        "      raise NegativeNumberException('neg number not allowed')\n",
        "    c=a/b\n",
        "    print('div is',c)\n",
        "    break\n",
        "  except ValueError:\n",
        "    print('please enter int only')\n",
        "  except ZeroDivisionError:\n",
        "    print('please enter non zero denomitor')\n",
        "  except NegativeNumberException as e:\n",
        "    print(e)  "
      ],
      "metadata": {
        "colab": {
          "base_uri": "https://localhost:8080/"
        },
        "id": "dbto5rBi1wSp",
        "outputId": "22b4e541-1674-441f-be97-cb1e514963ff"
      },
      "execution_count": 25,
      "outputs": [
        {
          "output_type": "stream",
          "name": "stdout",
          "text": [
            "first number  :10\n",
            "second number  :-10\n",
            "neg number not allowed\n",
            "first number  :100\n",
            "second number  :-200\n",
            "neg number not allowed\n",
            "first number  :100\n",
            "second number  :100\n",
            "div is 1.0\n"
          ]
        }
      ]
    },
    {
      "cell_type": "markdown",
      "source": [
        "###final block"
      ],
      "metadata": {
        "id": "1nMwH86Q49MR"
      }
    },
    {
      "cell_type": "code",
      "source": [
        "  try:\n",
        "    a=int(input('enter your first number -'))\n",
        "    b=int(input('enter your second number -'))\n",
        "    c=a/b\n",
        "    print(c)\n",
        "  except:\n",
        "    print('dont use zero in denomitor')\n",
        "  finally:                                   #finally block\n",
        "    print('hello')\n",
        "    print('python')      "
      ],
      "metadata": {
        "colab": {
          "base_uri": "https://localhost:8080/"
        },
        "id": "zNHXnhCx21pd",
        "outputId": "7904ebb0-4ec2-42ac-9757-8c2b8a5f9654"
      },
      "execution_count": 28,
      "outputs": [
        {
          "output_type": "stream",
          "name": "stdout",
          "text": [
            "enter your first number -10\n",
            "enter your second number -0\n",
            "dont use zero in denomitor\n",
            "hello\n",
            "python\n"
          ]
        }
      ]
    },
    {
      "cell_type": "markdown",
      "source": [
        "if we don't  put these two last 'print' in finally block it will run same \n",
        "\n",
        "but in bigger codes this might give error, so because of that we prefer to write this 'finally' block for error identification."
      ],
      "metadata": {
        "id": "-z3PcuUl9Yrs"
      }
    },
    {
      "cell_type": "code",
      "source": [],
      "metadata": {
        "id": "IFJ9pbUe5_nV"
      },
      "execution_count": null,
      "outputs": []
    }
  ]
}