{
  "nbformat": 4,
  "nbformat_minor": 0,
  "metadata": {
    "colab": {
      "provenance": [],
      "authorship_tag": "ABX9TyP7qP6l5YUuUNhHtQ+a1ibe",
      "include_colab_link": true
    },
    "kernelspec": {
      "name": "python3",
      "display_name": "Python 3"
    },
    "language_info": {
      "name": "python"
    }
  },
  "cells": [
    {
      "cell_type": "markdown",
      "metadata": {
        "id": "view-in-github",
        "colab_type": "text"
      },
      "source": [
        "<a href=\"https://colab.research.google.com/github/Raviawana/python-tutorial/blob/main/python_class_6th_.ipynb\" target=\"_parent\"><img src=\"https://colab.research.google.com/assets/colab-badge.svg\" alt=\"Open In Colab\"/></a>"
      ]
    },
    {
      "cell_type": "markdown",
      "source": [
        "**WHILE LOOP**\n"
      ],
      "metadata": {
        "id": "wxImCt52PdYp"
      }
    },
    {
      "cell_type": "markdown",
      "source": [
        "The condition is a Boolean expression that is evaluated before each iteration of the loop. \n",
        "\n",
        "If the condition is true, the code block is executed. After the code block is executed, the condition is evaluated again, and the loop continues as long as the condition remains true.\n",
        "\n",
        " When the condition becomes false, the loop terminates, and the program continues with the next statement after the loop.\n",
        "\n",
        "\n",
        "\n",
        "\n",
        "\n",
        "\n",
        "\n",
        "in simple language\n",
        "\n",
        "\n",
        "*while loop is basically a function which execute only when the condition i.e written with it is true*.\n",
        "\n",
        "and whenever condition holds false it breaks the loop.\n",
        "\n",
        "It is also known as conditional loop."
      ],
      "metadata": {
        "id": "PcbGIyl_RDHl"
      }
    },
    {
      "cell_type": "code",
      "execution_count": null,
      "metadata": {
        "id": "pMl85DtSMsIX"
      },
      "outputs": [],
      "source": []
    },
    {
      "cell_type": "markdown",
      "source": [
        "If we have to  generate numbers from 1 to 10.\n",
        "than we have a lot of ways,one of them is while loop."
      ],
      "metadata": {
        "id": "LCfD2Qu6PlyO"
      }
    },
    {
      "cell_type": "code",
      "source": [
        "a=1\n",
        "b=10\n",
        "while a<=b:\n",
        "  print(a)\n",
        "  a=a+1                    #this last line is written for next line, if we don't write it,it will gonna give only 1 for infinite number of times."
      ],
      "metadata": {
        "colab": {
          "base_uri": "https://localhost:8080/"
        },
        "id": "XslG2p6pQu4O",
        "outputId": "565e1a51-44da-45b6-8cff-bae71e048fbb"
      },
      "execution_count": null,
      "outputs": [
        {
          "output_type": "stream",
          "name": "stdout",
          "text": [
            "1\n",
            "2\n",
            "3\n",
            "4\n",
            "5\n",
            "6\n",
            "7\n",
            "8\n",
            "9\n",
            "10\n"
          ]
        }
      ]
    },
    {
      "cell_type": "markdown",
      "source": [
        "in this above condition the value of a will change and go again in the loop for checking up that given condition is satisfed or not."
      ],
      "metadata": {
        "id": "9z_W2PZ8TmfY"
      }
    },
    {
      "cell_type": "code",
      "source": [
        "a=1\n",
        "b=10\n",
        "while a<=b:\n",
        "  print(a)\n",
        "  a=a+2\n",
        "else:\n",
        "  print('print this if needed')"
      ],
      "metadata": {
        "colab": {
          "base_uri": "https://localhost:8080/"
        },
        "id": "fZAF4B2pYOb5",
        "outputId": "8ea9e385-aae1-4303-90bc-c08b759ab989"
      },
      "execution_count": null,
      "outputs": [
        {
          "output_type": "stream",
          "name": "stdout",
          "text": [
            "1\n",
            "3\n",
            "5\n",
            "7\n",
            "9\n",
            "print this if needed\n"
          ]
        }
      ]
    },
    {
      "cell_type": "markdown",
      "source": [
        "on a sucessfull complition of 'while' loop 'else' will be executed,but if there is some short of distrubance in while loop than else will not be executed."
      ],
      "metadata": {
        "id": "d-0fY71vZHug"
      }
    },
    {
      "cell_type": "code",
      "source": [
        "a=1\n",
        "b=10\n",
        "while a<=b:\n",
        "  print(a)\n",
        "  if a==5:\n",
        "    break\n",
        "  a=a+1\n",
        "else:\n",
        "  print('this is else loop')  "
      ],
      "metadata": {
        "colab": {
          "base_uri": "https://localhost:8080/"
        },
        "id": "sRWNZRCMYooR",
        "outputId": "1d4b471a-6920-43da-f41b-2d67a01b0c1f"
      },
      "execution_count": null,
      "outputs": [
        {
          "output_type": "stream",
          "name": "stdout",
          "text": [
            "1\n",
            "2\n",
            "3\n",
            "4\n",
            "5\n"
          ]
        }
      ]
    },
    {
      "cell_type": "code",
      "source": [
        "a=1\n",
        "b=10\n",
        "while a<10:\n",
        "  print(a)\n",
        "  if a==3:\n",
        "    continue                # It is similar function like break \n",
        "  a=a+1  "
      ],
      "metadata": {
        "id": "VnR2GBJid3Nh"
      },
      "execution_count": null,
      "outputs": []
    },
    {
      "cell_type": "markdown",
      "source": [
        "We can't see 3 here because here 'a==3' is written and function assigned here is 'continue' which will again make it go to the loop strt not to next line that is print(a) "
      ],
      "metadata": {
        "id": "VrQ61Gl8f69Z"
      }
    },
    {
      "cell_type": "markdown",
      "source": [],
      "metadata": {
        "id": "SQ0H1r5kf653"
      }
    },
    {
      "cell_type": "code",
      "source": [
        "a=1\n",
        "b=10\n",
        "while a<b:\n",
        "  a=a+1\n",
        "  if a==3:\n",
        "    continue\n",
        "  print(a)"
      ],
      "metadata": {
        "colab": {
          "base_uri": "https://localhost:8080/"
        },
        "id": "iEh00Bpbeljz",
        "outputId": "ea9e9443-375d-4e1e-aa29-fd4c3266ceda"
      },
      "execution_count": null,
      "outputs": [
        {
          "output_type": "stream",
          "name": "stdout",
          "text": [
            "2\n",
            "4\n",
            "5\n",
            "6\n",
            "7\n",
            "8\n",
            "9\n",
            "10\n"
          ]
        }
      ]
    },
    {
      "cell_type": "code",
      "source": [
        "a=1\n",
        "b=10\n",
        "while a<b:\n",
        "  a=a+1\n",
        "  if a==3:\n",
        "    pass                          # It does't impact the loop \n",
        "  print(a)"
      ],
      "metadata": {
        "colab": {
          "base_uri": "https://localhost:8080/"
        },
        "id": "o01QlwQWf4iT",
        "outputId": "92988570-e722-4877-876c-20e5c6fc374a"
      },
      "execution_count": null,
      "outputs": [
        {
          "output_type": "stream",
          "name": "stdout",
          "text": [
            "2\n",
            "3\n",
            "4\n",
            "5\n",
            "6\n",
            "7\n",
            "8\n",
            "9\n",
            "10\n"
          ]
        }
      ]
    },
    {
      "cell_type": "code",
      "source": [
        "l=[1,2,3,34,45,67]"
      ],
      "metadata": {
        "id": "BgSRbHHkgw99"
      },
      "execution_count": null,
      "outputs": []
    },
    {
      "cell_type": "code",
      "source": [
        "for i in l :             # If we have to extract elements just like for loop\n",
        "  print(i)"
      ],
      "metadata": {
        "colab": {
          "base_uri": "https://localhost:8080/"
        },
        "id": "JcmHxol-kGtL",
        "outputId": "f3f15b79-7621-4db7-c24e-411487d6de61"
      },
      "execution_count": null,
      "outputs": [
        {
          "output_type": "stream",
          "name": "stdout",
          "text": [
            "1\n",
            "2\n",
            "3\n",
            "34\n",
            "45\n",
            "67\n"
          ]
        }
      ]
    },
    {
      "cell_type": "code",
      "source": [
        "while type(l)==int:\n",
        "  print(l)"
      ],
      "metadata": {
        "id": "peAJyRESkLIC"
      },
      "execution_count": null,
      "outputs": []
    },
    {
      "cell_type": "code",
      "source": [
        "a=0                           # Firstly len of l=6 and 'a' is obyously lesser than 6 so it will get into the code \n",
        "while a < len(l):             # 1st- 'a'=0 so {l[0]=1,l[1]=2,,,....(because of a=a+1)}\n",
        "  print(l[a])\n",
        "  a=a+1"
      ],
      "metadata": {
        "colab": {
          "base_uri": "https://localhost:8080/"
        },
        "id": "n5n_PJ2klIMb",
        "outputId": "2203e5cc-1bec-4c0b-f579-f0acf969a4d7"
      },
      "execution_count": null,
      "outputs": [
        {
          "output_type": "stream",
          "name": "stdout",
          "text": [
            "1\n",
            "2\n",
            "3\n",
            "34\n",
            "45\n",
            "67\n"
          ]
        }
      ]
    },
    {
      "cell_type": "code",
      "source": [
        "t=(3,4,5,6,7,8,9)                  # Find index of 6 and 7"
      ],
      "metadata": {
        "id": "NopeVkV0l-GZ"
      },
      "execution_count": 71,
      "outputs": []
    },
    {
      "cell_type": "code",
      "source": [
        "for i in t:\n",
        "  if i == 6 or i==7:\n",
        "    print(i)"
      ],
      "metadata": {
        "colab": {
          "base_uri": "https://localhost:8080/"
        },
        "id": "bh6TbD2cpEVf",
        "outputId": "e340ad62-82f2-41e1-87c6-62466167206d"
      },
      "execution_count": null,
      "outputs": [
        {
          "output_type": "stream",
          "name": "stdout",
          "text": [
            "6\n",
            "7\n"
          ]
        }
      ]
    },
    {
      "cell_type": "code",
      "source": [
        "for i in t:\n",
        "  if i == 6 or i==7:\n",
        "    print(i[])"
      ],
      "metadata": {
        "colab": {
          "base_uri": "https://localhost:8080/",
          "height": 130
        },
        "id": "EJS7zl-AplnF",
        "outputId": "d9139939-6260-469c-9462-ef8fbac5b292"
      },
      "execution_count": null,
      "outputs": [
        {
          "output_type": "error",
          "ename": "SyntaxError",
          "evalue": "ignored",
          "traceback": [
            "\u001b[0;36m  File \u001b[0;32m\"<ipython-input-30-7fc1d8e5e82c>\"\u001b[0;36m, line \u001b[0;32m3\u001b[0m\n\u001b[0;31m    print(i[])\u001b[0m\n\u001b[0m          ^\u001b[0m\n\u001b[0;31mSyntaxError\u001b[0m\u001b[0;31m:\u001b[0m invalid syntax. Perhaps you forgot a comma?\n"
          ]
        }
      ]
    },
    {
      "cell_type": "code",
      "source": [
        "a=0\n",
        "while a < len(t):\n",
        "  if t[a] == 6 or t[a]==7:             # IF we execute it it willgo in infinite loop\n",
        "  print()\n"
      ],
      "metadata": {
        "colab": {
          "base_uri": "https://localhost:8080/",
          "height": 130
        },
        "id": "4Oz9Qjdfp0BM",
        "outputId": "7093c3bc-6d01-4d57-ca57-bfc053810bdc"
      },
      "execution_count": null,
      "outputs": [
        {
          "output_type": "error",
          "ename": "SyntaxError",
          "evalue": "ignored",
          "traceback": [
            "\u001b[0;36m  File \u001b[0;32m\"<ipython-input-31-cbff8a7c2a3a>\"\u001b[0;36m, line \u001b[0;32m3\u001b[0m\n\u001b[0;31m    if t[a] == 6 or t[a]==7\u001b[0m\n\u001b[0m                           ^\u001b[0m\n\u001b[0;31mSyntaxError\u001b[0m\u001b[0;31m:\u001b[0m expected ':'\n"
          ]
        }
      ]
    },
    {
      "cell_type": "code",
      "source": [
        "a=0\n",
        "while a<len(t):\n",
        "  if t[a]==6 or t[a]==7:\n",
        "    print(a)\n",
        "  a=a+1"
      ],
      "metadata": {
        "colab": {
          "base_uri": "https://localhost:8080/"
        },
        "id": "Jc6EszM0rC6g",
        "outputId": "21e24840-3133-49a4-e1ce-363a3df3472c"
      },
      "execution_count": null,
      "outputs": [
        {
          "output_type": "stream",
          "name": "stdout",
          "text": [
            "3\n",
            "4\n"
          ]
        }
      ]
    },
    {
      "cell_type": "code",
      "source": [
        "a=0\n",
        "while a<len(t):\n",
        "  if t[-a]==2 or t[-a]==3:         # WRONG\n",
        "    print(-a)\n",
        "  a=a+1"
      ],
      "metadata": {
        "colab": {
          "base_uri": "https://localhost:8080/"
        },
        "id": "8kNXYmkCroms",
        "outputId": "f8bea5ca-95ed-42df-feec-53e42c72fb8e"
      },
      "execution_count": null,
      "outputs": [
        {
          "output_type": "stream",
          "name": "stdout",
          "text": [
            "0\n"
          ]
        }
      ]
    },
    {
      "cell_type": "code",
      "source": [
        "t"
      ],
      "metadata": {
        "colab": {
          "base_uri": "https://localhost:8080/"
        },
        "id": "E2I7Q3cwEXzG",
        "outputId": "af8ecf64-37df-4baa-9589-1fb78ea54eac"
      },
      "execution_count": 72,
      "outputs": [
        {
          "output_type": "execute_result",
          "data": {
            "text/plain": [
              "(3, 4, 5, 6, 7, 8, 9)"
            ]
          },
          "metadata": {},
          "execution_count": 72
        }
      ]
    },
    {
      "cell_type": "code",
      "source": [
        " a=-1\n",
        " while a>-len(t):\n",
        "  if t[a]==6 or t[a]==7:\n",
        "    print('index of',t[a], 'is',a)\n",
        "  a=a-1"
      ],
      "metadata": {
        "id": "LzMxDTeAscq9",
        "colab": {
          "base_uri": "https://localhost:8080/"
        },
        "outputId": "a37387a4-8c95-4186-a403-3bf93dfd3791"
      },
      "execution_count": null,
      "outputs": [
        {
          "output_type": "stream",
          "name": "stdout",
          "text": [
            "index of 7 is -3\n",
            "index of 6 is -4\n"
          ]
        }
      ]
    },
    {
      "cell_type": "code",
      "source": [
        "l"
      ],
      "metadata": {
        "colab": {
          "base_uri": "https://localhost:8080/"
        },
        "id": "1bSVv1hWD1pY",
        "outputId": "a1ea3bcb-fa31-4f3c-88a4-4bf3bf882377"
      },
      "execution_count": null,
      "outputs": [
        {
          "output_type": "execute_result",
          "data": {
            "text/plain": [
              "[1, 2, 3, 34, 45, 67]"
            ]
          },
          "metadata": {},
          "execution_count": 13
        }
      ]
    },
    {
      "cell_type": "code",
      "source": [
        "t"
      ],
      "metadata": {
        "colab": {
          "base_uri": "https://localhost:8080/"
        },
        "id": "cJPqTkOsHaHd",
        "outputId": "21be9794-9c44-40f4-b1ac-29d9cd39d5e6"
      },
      "execution_count": null,
      "outputs": [
        {
          "output_type": "execute_result",
          "data": {
            "text/plain": [
              "(3, 4, 5, 6, 7, 8, 9)"
            ]
          },
          "metadata": {},
          "execution_count": 14
        }
      ]
    },
    {
      "cell_type": "code",
      "source": [
        "i=0\n",
        "while i>-len(l):\n",
        "  if (l[i]==6) or l[i]==7:\n",
        "    print(i)\n",
        "    i-=1"
      ],
      "metadata": {
        "colab": {
          "base_uri": "https://localhost:8080/",
          "height": 235
        },
        "id": "kyZ8uhltHbWb",
        "outputId": "fb66c78f-8bd9-4d83-9e52-4e4cc2d63478"
      },
      "execution_count": null,
      "outputs": [
        {
          "output_type": "error",
          "ename": "KeyboardInterrupt",
          "evalue": "ignored",
          "traceback": [
            "\u001b[0;31m---------------------------------------------------------------------------\u001b[0m",
            "\u001b[0;31mKeyboardInterrupt\u001b[0m                         Traceback (most recent call last)",
            "\u001b[0;32m<ipython-input-20-9f0ae26346e8>\u001b[0m in \u001b[0;36m<cell line: 2>\u001b[0;34m()\u001b[0m\n\u001b[1;32m      1\u001b[0m \u001b[0mi\u001b[0m\u001b[0;34m=\u001b[0m\u001b[0;36m0\u001b[0m\u001b[0;34m\u001b[0m\u001b[0;34m\u001b[0m\u001b[0m\n\u001b[0;32m----> 2\u001b[0;31m \u001b[0;32mwhile\u001b[0m \u001b[0mi\u001b[0m\u001b[0;34m>\u001b[0m\u001b[0;34m-\u001b[0m\u001b[0mlen\u001b[0m\u001b[0;34m(\u001b[0m\u001b[0ml\u001b[0m\u001b[0;34m)\u001b[0m\u001b[0;34m:\u001b[0m\u001b[0;34m\u001b[0m\u001b[0;34m\u001b[0m\u001b[0m\n\u001b[0m\u001b[1;32m      3\u001b[0m   \u001b[0;32mif\u001b[0m \u001b[0;34m(\u001b[0m\u001b[0ml\u001b[0m\u001b[0;34m[\u001b[0m\u001b[0mi\u001b[0m\u001b[0;34m]\u001b[0m\u001b[0;34m==\u001b[0m\u001b[0;36m6\u001b[0m\u001b[0;34m)\u001b[0m \u001b[0;32mor\u001b[0m \u001b[0ml\u001b[0m\u001b[0;34m[\u001b[0m\u001b[0mi\u001b[0m\u001b[0;34m]\u001b[0m\u001b[0;34m==\u001b[0m\u001b[0;36m7\u001b[0m\u001b[0;34m:\u001b[0m\u001b[0;34m\u001b[0m\u001b[0;34m\u001b[0m\u001b[0m\n\u001b[1;32m      4\u001b[0m     \u001b[0mprint\u001b[0m\u001b[0;34m(\u001b[0m\u001b[0mi\u001b[0m\u001b[0;34m)\u001b[0m\u001b[0;34m\u001b[0m\u001b[0;34m\u001b[0m\u001b[0m\n\u001b[1;32m      5\u001b[0m     \u001b[0mi\u001b[0m\u001b[0;34m-=\u001b[0m\u001b[0;36m1\u001b[0m\u001b[0;34m\u001b[0m\u001b[0;34m\u001b[0m\u001b[0m\n",
            "\u001b[0;31mKeyboardInterrupt\u001b[0m: "
          ]
        }
      ]
    },
    {
      "cell_type": "code",
      "source": [
        "i=0\n",
        "while len(t)>i:\n",
        "  if t[i]==6 or t[i]==7:                   # To correct it see below code\n",
        "    print(i)\n",
        "  i-=1 "
      ],
      "metadata": {
        "colab": {
          "base_uri": "https://localhost:8080/",
          "height": 269
        },
        "id": "r75WcYVBH7NZ",
        "outputId": "0637c54f-945a-4cfa-a65d-d1ee0537d399"
      },
      "execution_count": null,
      "outputs": [
        {
          "output_type": "stream",
          "name": "stdout",
          "text": [
            "-3\n",
            "-4\n"
          ]
        },
        {
          "output_type": "error",
          "ename": "IndexError",
          "evalue": "ignored",
          "traceback": [
            "\u001b[0;31m---------------------------------------------------------------------------\u001b[0m",
            "\u001b[0;31mIndexError\u001b[0m                                Traceback (most recent call last)",
            "\u001b[0;32m<ipython-input-27-97252fd7a53c>\u001b[0m in \u001b[0;36m<cell line: 2>\u001b[0;34m()\u001b[0m\n\u001b[1;32m      1\u001b[0m \u001b[0mi\u001b[0m\u001b[0;34m=\u001b[0m\u001b[0;36m0\u001b[0m\u001b[0;34m\u001b[0m\u001b[0;34m\u001b[0m\u001b[0m\n\u001b[1;32m      2\u001b[0m \u001b[0;32mwhile\u001b[0m \u001b[0mlen\u001b[0m\u001b[0;34m(\u001b[0m\u001b[0mt\u001b[0m\u001b[0;34m)\u001b[0m\u001b[0;34m>\u001b[0m\u001b[0mi\u001b[0m\u001b[0;34m:\u001b[0m\u001b[0;34m\u001b[0m\u001b[0;34m\u001b[0m\u001b[0m\n\u001b[0;32m----> 3\u001b[0;31m   \u001b[0;32mif\u001b[0m \u001b[0mt\u001b[0m\u001b[0;34m[\u001b[0m\u001b[0mi\u001b[0m\u001b[0;34m]\u001b[0m\u001b[0;34m==\u001b[0m\u001b[0;36m6\u001b[0m \u001b[0;32mor\u001b[0m \u001b[0mt\u001b[0m\u001b[0;34m[\u001b[0m\u001b[0mi\u001b[0m\u001b[0;34m]\u001b[0m\u001b[0;34m==\u001b[0m\u001b[0;36m7\u001b[0m\u001b[0;34m:\u001b[0m\u001b[0;34m\u001b[0m\u001b[0;34m\u001b[0m\u001b[0m\n\u001b[0m\u001b[1;32m      4\u001b[0m     \u001b[0mprint\u001b[0m\u001b[0;34m(\u001b[0m\u001b[0mi\u001b[0m\u001b[0;34m)\u001b[0m\u001b[0;34m\u001b[0m\u001b[0;34m\u001b[0m\u001b[0m\n\u001b[1;32m      5\u001b[0m   \u001b[0mi\u001b[0m\u001b[0;34m-=\u001b[0m\u001b[0;36m1\u001b[0m\u001b[0;34m\u001b[0m\u001b[0;34m\u001b[0m\u001b[0m\n",
            "\u001b[0;31mIndexError\u001b[0m: tuple index out of range"
          ]
        }
      ]
    },
    {
      "cell_type": "code",
      "source": [
        "i=0\n",
        "while len(t)>i:\n",
        "  if t[i]==6 or t[i]==7:                  \n",
        "    print(i)\n",
        "  if i==-len(l):\n",
        "      break\n",
        "  i-=1                           # Meaning of it is (i=i-1) these both statments are same"
      ],
      "metadata": {
        "colab": {
          "base_uri": "https://localhost:8080/"
        },
        "id": "pWrroauPJy89",
        "outputId": "8f1dc8bb-8e07-4b9b-efcd-e9fb0d31f0d3"
      },
      "execution_count": null,
      "outputs": [
        {
          "output_type": "stream",
          "name": "stdout",
          "text": [
            "-3\n",
            "-4\n"
          ]
        }
      ]
    },
    {
      "cell_type": "code",
      "source": [
        "d={'k1':'ravi','k2':'[1,2,3,4]','k3':'(5,6,7,8)'}           # Extract only values by using 'while loop'"
      ],
      "metadata": {
        "id": "_PamWl9XKoAM"
      },
      "execution_count": null,
      "outputs": []
    },
    {
      "cell_type": "code",
      "source": [
        "while type(d)=dict:\n",
        "  print(values=)"
      ],
      "metadata": {
        "colab": {
          "base_uri": "https://localhost:8080/",
          "height": 130
        },
        "id": "JAETmmmxNjzT",
        "outputId": "226b118e-dc71-46ab-9878-45018f39d82b"
      },
      "execution_count": null,
      "outputs": [
        {
          "output_type": "error",
          "ename": "SyntaxError",
          "evalue": "ignored",
          "traceback": [
            "\u001b[0;36m  File \u001b[0;32m\"<ipython-input-34-723554e9a1af>\"\u001b[0;36m, line \u001b[0;32m1\u001b[0m\n\u001b[0;31m    while type(d)=dict:\u001b[0m\n\u001b[0m          ^\u001b[0m\n\u001b[0;31mSyntaxError\u001b[0m\u001b[0;31m:\u001b[0m cannot assign to function call here. Maybe you meant '==' instead of '='?\n"
          ]
        }
      ]
    },
    {
      "cell_type": "code",
      "source": [
        "b=list(d.keys())"
      ],
      "metadata": {
        "id": "-a6IRCHZN7lB"
      },
      "execution_count": null,
      "outputs": []
    },
    {
      "cell_type": "code",
      "source": [
        "b"
      ],
      "metadata": {
        "colab": {
          "base_uri": "https://localhost:8080/"
        },
        "id": "Li3uHuNeRMRX",
        "outputId": "251e4863-17d9-462d-f621-2bae2c37ee89"
      },
      "execution_count": null,
      "outputs": [
        {
          "output_type": "execute_result",
          "data": {
            "text/plain": [
              "['k1', 'k2', 'k3']"
            ]
          },
          "metadata": {},
          "execution_count": 36
        }
      ]
    },
    {
      "cell_type": "code",
      "source": [
        "c=list(d.values())"
      ],
      "metadata": {
        "id": "b66MyUCsRNQP"
      },
      "execution_count": null,
      "outputs": []
    },
    {
      "cell_type": "code",
      "source": [
        "c"
      ],
      "metadata": {
        "colab": {
          "base_uri": "https://localhost:8080/"
        },
        "id": "bHVIVqOFRWS6",
        "outputId": "25bc8526-fc09-4de1-8c27-c1a27c16351e"
      },
      "execution_count": null,
      "outputs": [
        {
          "output_type": "execute_result",
          "data": {
            "text/plain": [
              "['ravi', '[1,2,3,4]', '(5,6,7,8)']"
            ]
          },
          "metadata": {},
          "execution_count": 38
        }
      ]
    },
    {
      "cell_type": "code",
      "source": [
        "a=0\n",
        "b=list(d.keys())\n",
        "while a < len(d):\n",
        "  print(d[b[a]])\n",
        "  a=a+1"
      ],
      "metadata": {
        "colab": {
          "base_uri": "https://localhost:8080/"
        },
        "id": "T500DREsRXJO",
        "outputId": "1c5125f6-b6f9-4c3b-d805-307f6de20324"
      },
      "execution_count": null,
      "outputs": [
        {
          "output_type": "stream",
          "name": "stdout",
          "text": [
            "ravi\n",
            "[1,2,3,4]\n",
            "(5,6,7,8)\n"
          ]
        }
      ]
    },
    {
      "cell_type": "markdown",
      "source": [
        "**FUNCTIONS**\n",
        "\n",
        "In this class just a intro\n",
        "\n",
        "if you want to create any function there are some naming convenctions thatyou must have to follow.\n",
        "\n",
        "basic minimum requirement is :- \"def Test:\" (if we are trying to make a 'test' function).\n",
        "\n",
        "\n",
        "*One of the major function of functions is it gives us ability to reuse code so that we don't have to write it again and again.*"
      ],
      "metadata": {
        "id": "h0QL7VqeVKU5"
      }
    },
    {
      "cell_type": "code",
      "source": [
        "def Test():\n",
        "  print('this is my first function')          # Herewe are making a function"
      ],
      "metadata": {
        "id": "cb6z0IRdXBgP"
      },
      "execution_count": null,
      "outputs": []
    },
    {
      "cell_type": "code",
      "source": [
        "Test()                                        # Here we are calling the function"
      ],
      "metadata": {
        "colab": {
          "base_uri": "https://localhost:8080/"
        },
        "id": "S4Zq2S4bSCuV",
        "outputId": "76943fbf-d422-47e4-c848-8fe74f749efe"
      },
      "execution_count": null,
      "outputs": [
        {
          "output_type": "stream",
          "name": "stdout",
          "text": [
            "this is my first function\n"
          ]
        }
      ]
    },
    {
      "cell_type": "code",
      "source": [
        "type(Test())                                  # It always creates non type of function "
      ],
      "metadata": {
        "colab": {
          "base_uri": "https://localhost:8080/"
        },
        "id": "Kf-t9oRrXp0i",
        "outputId": "5f74bb2d-2c02-4bf3-8cd8-8f482544de7d"
      },
      "execution_count": null,
      "outputs": [
        {
          "output_type": "stream",
          "name": "stdout",
          "text": [
            "this is my first function\n"
          ]
        },
        {
          "output_type": "execute_result",
          "data": {
            "text/plain": [
              "NoneType"
            ]
          },
          "metadata": {},
          "execution_count": 44
        }
      ]
    },
    {
      "cell_type": "code",
      "source": [
        "type()+'ravi'                                 # It will for sure give an error because it is a \"non type function\" and 'ravi' is string. "
      ],
      "metadata": {
        "colab": {
          "base_uri": "https://localhost:8080/",
          "height": 165
        },
        "id": "KJXkRMSlYQDy",
        "outputId": "8c1a508c-f28b-4d67-a031-239e4735383c"
      },
      "execution_count": null,
      "outputs": [
        {
          "output_type": "error",
          "ename": "TypeError",
          "evalue": "ignored",
          "traceback": [
            "\u001b[0;31m---------------------------------------------------------------------------\u001b[0m",
            "\u001b[0;31mTypeError\u001b[0m                                 Traceback (most recent call last)",
            "\u001b[0;32m<ipython-input-45-35361e2a6830>\u001b[0m in \u001b[0;36m<cell line: 1>\u001b[0;34m()\u001b[0m\n\u001b[0;32m----> 1\u001b[0;31m \u001b[0mtype\u001b[0m\u001b[0;34m(\u001b[0m\u001b[0;34m)\u001b[0m\u001b[0;34m+\u001b[0m\u001b[0;34m'ravi'\u001b[0m\u001b[0;34m\u001b[0m\u001b[0;34m\u001b[0m\u001b[0m\n\u001b[0m",
            "\u001b[0;31mTypeError\u001b[0m: type() takes 1 or 3 arguments"
          ]
        }
      ]
    },
    {
      "cell_type": "code",
      "source": [
        "def test1():                                    # Return always gives outcome as the way we write, while 'print' always gives none type \n",
        "  return\"this is my second function\""
      ],
      "metadata": {
        "id": "FVNHMb3sYnaw"
      },
      "execution_count": null,
      "outputs": []
    },
    {
      "cell_type": "code",
      "source": [
        "test1"
      ],
      "metadata": {
        "colab": {
          "base_uri": "https://localhost:8080/"
        },
        "id": "WhYpUHoycqQm",
        "outputId": "a8864b0b-2d12-4a59-d285-c33105f3b02e"
      },
      "execution_count": null,
      "outputs": [
        {
          "output_type": "execute_result",
          "data": {
            "text/plain": [
              "<function __main__.test1()>"
            ]
          },
          "metadata": {},
          "execution_count": 47
        }
      ]
    },
    {
      "cell_type": "code",
      "source": [
        "type(test1())             # Now this is string"
      ],
      "metadata": {
        "colab": {
          "base_uri": "https://localhost:8080/"
        },
        "id": "UqXl2NLFcsEI",
        "outputId": "8ce93590-d4e8-40aa-fbb5-b357c5e7eed4"
      },
      "execution_count": null,
      "outputs": [
        {
          "output_type": "execute_result",
          "data": {
            "text/plain": [
              "str"
            ]
          },
          "metadata": {},
          "execution_count": 48
        }
      ]
    },
    {
      "cell_type": "code",
      "source": [
        "test1() +'ravi'           # Hence it will work as the way we were expacting"
      ],
      "metadata": {
        "colab": {
          "base_uri": "https://localhost:8080/",
          "height": 35
        },
        "id": "BKhDl0pcc0zn",
        "outputId": "895ffc85-5e2a-4ed2-b17d-d4bf8de2e7ef"
      },
      "execution_count": null,
      "outputs": [
        {
          "output_type": "execute_result",
          "data": {
            "text/plain": [
              "'this is my second functionravi'"
            ],
            "application/vnd.google.colaboratory.intrinsic+json": {
              "type": "string"
            }
          },
          "metadata": {},
          "execution_count": 51
        }
      ]
    },
    {
      "cell_type": "code",
      "source": [
        "def test2():\n",
        "  return 1,2,3,4,[12,34,54,34]"
      ],
      "metadata": {
        "id": "g4wqZHIoc-Vb"
      },
      "execution_count": 2,
      "outputs": []
    },
    {
      "cell_type": "code",
      "source": [
        "test2()                   # Whenever you insert more THAN ONE TYPE OF OBJECT IT WILL ALWAYS GIVE OUTCOME IN \"TUPLES\""
      ],
      "metadata": {
        "colab": {
          "base_uri": "https://localhost:8080/"
        },
        "id": "NULS_mZseO9s",
        "outputId": "9b593cf4-037e-4a93-cdb2-f7c2fe250c38"
      },
      "execution_count": 3,
      "outputs": [
        {
          "output_type": "execute_result",
          "data": {
            "text/plain": [
              "(1, 2, 3, 4, [12, 34, 54, 34])"
            ]
          },
          "metadata": {},
          "execution_count": 3
        }
      ]
    },
    {
      "cell_type": "code",
      "source": [
        "type(test2())"
      ],
      "metadata": {
        "id": "yA4P2FtqeRGF",
        "colab": {
          "base_uri": "https://localhost:8080/"
        },
        "outputId": "8ef693d1-d0bf-4773-9615-b09346eb95ae"
      },
      "execution_count": 4,
      "outputs": [
        {
          "output_type": "execute_result",
          "data": {
            "text/plain": [
              "tuple"
            ]
          },
          "metadata": {},
          "execution_count": 4
        }
      ]
    },
    {
      "cell_type": "markdown",
      "source": [
        "We can hold this functiion inside a variable \"x\" \n",
        "\n",
        "And you can try to define a variable's value to a single variable or a multiple variable at a time"
      ],
      "metadata": {
        "id": "lIZ0IySwXnEM"
      }
    },
    {
      "cell_type": "code",
      "source": [
        "a=test2()"
      ],
      "metadata": {
        "id": "akM57IEvW_1l"
      },
      "execution_count": 5,
      "outputs": []
    },
    {
      "cell_type": "code",
      "source": [
        "a"
      ],
      "metadata": {
        "colab": {
          "base_uri": "https://localhost:8080/"
        },
        "id": "8xBJr-QnX9Fg",
        "outputId": "a14155f6-f859-46e5-9b44-3ba8364f7911"
      },
      "execution_count": 6,
      "outputs": [
        {
          "output_type": "execute_result",
          "data": {
            "text/plain": [
              "(1, 2, 3, 4, [12, 34, 54, 34])"
            ]
          },
          "metadata": {},
          "execution_count": 6
        }
      ]
    },
    {
      "cell_type": "code",
      "source": [
        "a,b,c,d,e=test2()"
      ],
      "metadata": {
        "id": "3TiQGru_X-TW"
      },
      "execution_count": 7,
      "outputs": []
    },
    {
      "cell_type": "code",
      "source": [
        "a"
      ],
      "metadata": {
        "colab": {
          "base_uri": "https://localhost:8080/"
        },
        "id": "I-9K7B8ZY_Z3",
        "outputId": "9108be8c-9fcd-454a-b343-5cdb55e9686f"
      },
      "execution_count": 9,
      "outputs": [
        {
          "output_type": "execute_result",
          "data": {
            "text/plain": [
              "1"
            ]
          },
          "metadata": {},
          "execution_count": 9
        }
      ]
    },
    {
      "cell_type": "code",
      "source": [
        "b"
      ],
      "metadata": {
        "colab": {
          "base_uri": "https://localhost:8080/"
        },
        "id": "9tAmTeXtZBST",
        "outputId": "2375a97e-1b5d-4398-d9c2-f289fdd66eab"
      },
      "execution_count": 10,
      "outputs": [
        {
          "output_type": "execute_result",
          "data": {
            "text/plain": [
              "2"
            ]
          },
          "metadata": {},
          "execution_count": 10
        }
      ]
    },
    {
      "cell_type": "code",
      "source": [
        "c"
      ],
      "metadata": {
        "colab": {
          "base_uri": "https://localhost:8080/"
        },
        "id": "oPJFRfoFZGHF",
        "outputId": "90b5a86f-2d98-456c-e7f8-4710e9be1004"
      },
      "execution_count": 11,
      "outputs": [
        {
          "output_type": "execute_result",
          "data": {
            "text/plain": [
              "3"
            ]
          },
          "metadata": {},
          "execution_count": 11
        }
      ]
    },
    {
      "cell_type": "code",
      "source": [
        "d"
      ],
      "metadata": {
        "colab": {
          "base_uri": "https://localhost:8080/"
        },
        "id": "SnYZo3keZGxe",
        "outputId": "368ddd76-98a3-4fc9-ef1e-43c4ea1d4ce1"
      },
      "execution_count": 12,
      "outputs": [
        {
          "output_type": "execute_result",
          "data": {
            "text/plain": [
              "4"
            ]
          },
          "metadata": {},
          "execution_count": 12
        }
      ]
    },
    {
      "cell_type": "code",
      "source": [
        "e"
      ],
      "metadata": {
        "colab": {
          "base_uri": "https://localhost:8080/"
        },
        "id": "-g6euhhiZHgo",
        "outputId": "2429a82f-129c-41dc-ecf5-61275170dc2b"
      },
      "execution_count": 13,
      "outputs": [
        {
          "output_type": "execute_result",
          "data": {
            "text/plain": [
              "[12, 34, 54, 34]"
            ]
          },
          "metadata": {},
          "execution_count": 13
        }
      ]
    },
    {
      "cell_type": "code",
      "source": [
        "def test4():\n",
        "  a=4*5\n",
        "  b=6+4\n",
        "  return a,b"
      ],
      "metadata": {
        "id": "SUJdX5L5ZIMS"
      },
      "execution_count": 14,
      "outputs": []
    },
    {
      "cell_type": "code",
      "source": [
        "test4()"
      ],
      "metadata": {
        "colab": {
          "base_uri": "https://localhost:8080/"
        },
        "id": "h3PTxyy8aNzr",
        "outputId": "f2248db5-1897-4d57-a0c3-e90726e02d01"
      },
      "execution_count": 15,
      "outputs": [
        {
          "output_type": "execute_result",
          "data": {
            "text/plain": [
              "(20, 10)"
            ]
          },
          "metadata": {},
          "execution_count": 15
        }
      ]
    },
    {
      "cell_type": "code",
      "source": [
        "g=test4()                                 # We can hold two outcomes in one variable"
      ],
      "metadata": {
        "id": "tyFfoFtWaP6r"
      },
      "execution_count": 16,
      "outputs": []
    },
    {
      "cell_type": "code",
      "source": [
        "g"
      ],
      "metadata": {
        "colab": {
          "base_uri": "https://localhost:8080/"
        },
        "id": "rB2NeQ7sayNN",
        "outputId": "9066a3d4-33dc-4db6-c532-582e145af8b9"
      },
      "execution_count": 17,
      "outputs": [
        {
          "output_type": "execute_result",
          "data": {
            "text/plain": [
              "(20, 10)"
            ]
          },
          "metadata": {},
          "execution_count": 17
        }
      ]
    },
    {
      "cell_type": "code",
      "source": [
        "j,k=test4()                               # Orwecan do this "
      ],
      "metadata": {
        "id": "e28-3CWVayuh"
      },
      "execution_count": 18,
      "outputs": []
    },
    {
      "cell_type": "code",
      "source": [
        "j"
      ],
      "metadata": {
        "colab": {
          "base_uri": "https://localhost:8080/"
        },
        "id": "1s95QoPca_RZ",
        "outputId": "fcc688f7-0317-4672-a20c-1976fe686366"
      },
      "execution_count": 19,
      "outputs": [
        {
          "output_type": "execute_result",
          "data": {
            "text/plain": [
              "20"
            ]
          },
          "metadata": {},
          "execution_count": 19
        }
      ]
    },
    {
      "cell_type": "code",
      "source": [
        "k"
      ],
      "metadata": {
        "colab": {
          "base_uri": "https://localhost:8080/"
        },
        "id": "OBNePoGWbAJp",
        "outputId": "58ffca74-81f7-438f-c9a1-514eae9c2366"
      },
      "execution_count": 20,
      "outputs": [
        {
          "output_type": "execute_result",
          "data": {
            "text/plain": [
              "10"
            ]
          },
          "metadata": {},
          "execution_count": 20
        }
      ]
    },
    {
      "cell_type": "code",
      "source": [
        "_,m=test4()                                         # If you are intrested in only one data or return you can use one placeholder i.e '_'"
      ],
      "metadata": {
        "id": "ZEiUeRRsbAic"
      },
      "execution_count": 21,
      "outputs": []
    },
    {
      "cell_type": "code",
      "source": [
        "m"
      ],
      "metadata": {
        "colab": {
          "base_uri": "https://localhost:8080/"
        },
        "id": "39Ic4Snub6II",
        "outputId": "2e70cbb8-e448-4241-e2a9-03a8f32d51a2"
      },
      "execution_count": 22,
      "outputs": [
        {
          "output_type": "execute_result",
          "data": {
            "text/plain": [
              "10"
            ]
          },
          "metadata": {},
          "execution_count": 22
        }
      ]
    },
    {
      "cell_type": "code",
      "source": [
        "_"
      ],
      "metadata": {
        "colab": {
          "base_uri": "https://localhost:8080/"
        },
        "id": "lgVd9ExXb64f",
        "outputId": "dca4db24-17fb-4bd8-d3bb-c9aa504790b5"
      },
      "execution_count": 23,
      "outputs": [
        {
          "output_type": "execute_result",
          "data": {
            "text/plain": [
              "20"
            ]
          },
          "metadata": {},
          "execution_count": 23
        }
      ]
    },
    {
      "cell_type": "code",
      "source": [
        "test2()"
      ],
      "metadata": {
        "colab": {
          "base_uri": "https://localhost:8080/"
        },
        "id": "T6jle5mpb8Bq",
        "outputId": "3602826a-80ca-42cc-b446-a75357af71b0"
      },
      "execution_count": 24,
      "outputs": [
        {
          "output_type": "execute_result",
          "data": {
            "text/plain": [
              "(1, 2, 3, 4, [12, 34, 54, 34])"
            ]
          },
          "metadata": {},
          "execution_count": 24
        }
      ]
    },
    {
      "cell_type": "markdown",
      "source": [
        "for example if we need only list from above data"
      ],
      "metadata": {
        "id": "Csri8_G6cI_V"
      }
    },
    {
      "cell_type": "code",
      "source": [
        "_,_,_,_,g=test2()"
      ],
      "metadata": {
        "id": "b8RFvPDzcG3x"
      },
      "execution_count": 25,
      "outputs": []
    },
    {
      "cell_type": "code",
      "source": [
        "g"
      ],
      "metadata": {
        "colab": {
          "base_uri": "https://localhost:8080/"
        },
        "id": "V_X4jWAkckbI",
        "outputId": "08833fc4-c9a6-4941-82ce-2b5024b88823"
      },
      "execution_count": 26,
      "outputs": [
        {
          "output_type": "execute_result",
          "data": {
            "text/plain": [
              "[12, 34, 54, 34]"
            ]
          },
          "metadata": {},
          "execution_count": 26
        }
      ]
    },
    {
      "cell_type": "code",
      "source": [
        "_"
      ],
      "metadata": {
        "colab": {
          "base_uri": "https://localhost:8080/"
        },
        "id": "YdOIA7x1clh0",
        "outputId": "cf3fe8a2-d050-40c4-c2fc-5d62ce502bbe"
      },
      "execution_count": 27,
      "outputs": [
        {
          "output_type": "execute_result",
          "data": {
            "text/plain": [
              "4"
            ]
          },
          "metadata": {},
          "execution_count": 27
        }
      ]
    },
    {
      "cell_type": "markdown",
      "source": [
        "One of the major function of functions is it gives us ability to reuse code so that we don't have to write it again and again.\n",
        "for in example;-"
      ],
      "metadata": {
        "id": "QwLTqbQefFcI"
      }
    },
    {
      "cell_type": "code",
      "source": [
        "a=1\n",
        "b=10\n",
        "while a<=b:\n",
        "  print(a)\n",
        "  a=a+1 "
      ],
      "metadata": {
        "colab": {
          "base_uri": "https://localhost:8080/"
        },
        "id": "o1UpFaM1crdo",
        "outputId": "024fbb69-58b4-4ed3-a07d-b43d6ce2845d"
      },
      "execution_count": 28,
      "outputs": [
        {
          "output_type": "stream",
          "name": "stdout",
          "text": [
            "1\n",
            "2\n",
            "3\n",
            "4\n",
            "5\n",
            "6\n",
            "7\n",
            "8\n",
            "9\n",
            "10\n"
          ]
        }
      ]
    },
    {
      "cell_type": "code",
      "source": [
        "def test5():\n",
        "  a=1                                # it is mandatatory to take care of proper inmitation\n",
        "  b=10\n",
        "  while a<=b:\n",
        "    print(a)\n",
        "    a=a+1 "
      ],
      "metadata": {
        "id": "bNFqKESEfEed"
      },
      "execution_count": 33,
      "outputs": []
    },
    {
      "cell_type": "code",
      "source": [
        "test5()"
      ],
      "metadata": {
        "colab": {
          "base_uri": "https://localhost:8080/"
        },
        "id": "oisxCHNCfo_6",
        "outputId": "f936baa1-632a-48ff-a6f7-503c082b4567"
      },
      "execution_count": 34,
      "outputs": [
        {
          "output_type": "stream",
          "name": "stdout",
          "text": [
            "1\n",
            "2\n",
            "3\n",
            "4\n",
            "5\n",
            "6\n",
            "7\n",
            "8\n",
            "9\n",
            "10\n"
          ]
        }
      ]
    },
    {
      "cell_type": "code",
      "source": [
        "test5()                                     # WE DON'T HAVE TO WRITE IT AGAIN AND AGAIN, WE JUST HAVE TO CALL FUNCTION"
      ],
      "metadata": {
        "colab": {
          "base_uri": "https://localhost:8080/"
        },
        "id": "Op0ls1xsfq-d",
        "outputId": "2ba78a7a-51aa-4573-f082-210f8b141ad5"
      },
      "execution_count": 35,
      "outputs": [
        {
          "output_type": "stream",
          "name": "stdout",
          "text": [
            "1\n",
            "2\n",
            "3\n",
            "4\n",
            "5\n",
            "6\n",
            "7\n",
            "8\n",
            "9\n",
            "10\n"
          ]
        }
      ]
    },
    {
      "cell_type": "markdown",
      "source": [
        "Now suppose you don't want to pass the values of 'a' and 'b' \n",
        "and you want to pass the values at the time of calling a function then"
      ],
      "metadata": {
        "id": "sIv7hirFjIgG"
      }
    },
    {
      "cell_type": "code",
      "source": [
        "def test5():\n",
        "\n",
        "  while a<=b:\n",
        "    print(a)\n",
        "    a=a+1 "
      ],
      "metadata": {
        "id": "c060ViyejHly"
      },
      "execution_count": 36,
      "outputs": []
    },
    {
      "cell_type": "code",
      "source": [
        "test5()"
      ],
      "metadata": {
        "colab": {
          "base_uri": "https://localhost:8080/",
          "height": 287
        },
        "id": "wAWLi4VEgTcp",
        "outputId": "4a53c7dc-8073-4a05-815a-a6b10d59866a"
      },
      "execution_count": 37,
      "outputs": [
        {
          "output_type": "error",
          "ename": "UnboundLocalError",
          "evalue": "ignored",
          "traceback": [
            "\u001b[0;31m---------------------------------------------------------------------------\u001b[0m",
            "\u001b[0;31mUnboundLocalError\u001b[0m                         Traceback (most recent call last)",
            "\u001b[0;32m<ipython-input-37-71ddc826dc0f>\u001b[0m in \u001b[0;36m<cell line: 1>\u001b[0;34m()\u001b[0m\n\u001b[0;32m----> 1\u001b[0;31m \u001b[0mtest5\u001b[0m\u001b[0;34m(\u001b[0m\u001b[0;34m)\u001b[0m\u001b[0;34m\u001b[0m\u001b[0;34m\u001b[0m\u001b[0m\n\u001b[0m",
            "\u001b[0;32m<ipython-input-36-3aed74c7a0ca>\u001b[0m in \u001b[0;36mtest5\u001b[0;34m()\u001b[0m\n\u001b[1;32m      1\u001b[0m \u001b[0;32mdef\u001b[0m \u001b[0mtest5\u001b[0m\u001b[0;34m(\u001b[0m\u001b[0;34m)\u001b[0m\u001b[0;34m:\u001b[0m\u001b[0;34m\u001b[0m\u001b[0;34m\u001b[0m\u001b[0m\n\u001b[1;32m      2\u001b[0m \u001b[0;34m\u001b[0m\u001b[0m\n\u001b[0;32m----> 3\u001b[0;31m   \u001b[0;32mwhile\u001b[0m \u001b[0ma\u001b[0m\u001b[0;34m<=\u001b[0m\u001b[0mb\u001b[0m\u001b[0;34m:\u001b[0m\u001b[0;34m\u001b[0m\u001b[0;34m\u001b[0m\u001b[0m\n\u001b[0m\u001b[1;32m      4\u001b[0m     \u001b[0mprint\u001b[0m\u001b[0;34m(\u001b[0m\u001b[0ma\u001b[0m\u001b[0;34m)\u001b[0m\u001b[0;34m\u001b[0m\u001b[0;34m\u001b[0m\u001b[0m\n\u001b[1;32m      5\u001b[0m     \u001b[0ma\u001b[0m\u001b[0;34m=\u001b[0m\u001b[0ma\u001b[0m\u001b[0;34m+\u001b[0m\u001b[0;36m1\u001b[0m\u001b[0;34m\u001b[0m\u001b[0;34m\u001b[0m\u001b[0m\n",
            "\u001b[0;31mUnboundLocalError\u001b[0m: local variable 'a' referenced before assignment"
          ]
        }
      ]
    },
    {
      "cell_type": "code",
      "source": [
        "def test5(a,b):\n",
        "  while a<=b:\n",
        "    print(a)\n",
        "    a=a+1 "
      ],
      "metadata": {
        "id": "4hanmV1wjtye"
      },
      "execution_count": 38,
      "outputs": []
    },
    {
      "cell_type": "code",
      "source": [
        "test5()                   # Purposly made this error look below for correct piece of code"
      ],
      "metadata": {
        "colab": {
          "base_uri": "https://localhost:8080/",
          "height": 165
        },
        "id": "CS09J7Gsj412",
        "outputId": "e67a622e-d7e5-4548-9744-56d8b62b8dca"
      },
      "execution_count": 39,
      "outputs": [
        {
          "output_type": "error",
          "ename": "TypeError",
          "evalue": "ignored",
          "traceback": [
            "\u001b[0;31m---------------------------------------------------------------------------\u001b[0m",
            "\u001b[0;31mTypeError\u001b[0m                                 Traceback (most recent call last)",
            "\u001b[0;32m<ipython-input-39-71ddc826dc0f>\u001b[0m in \u001b[0;36m<cell line: 1>\u001b[0;34m()\u001b[0m\n\u001b[0;32m----> 1\u001b[0;31m \u001b[0mtest5\u001b[0m\u001b[0;34m(\u001b[0m\u001b[0;34m)\u001b[0m\u001b[0;34m\u001b[0m\u001b[0;34m\u001b[0m\u001b[0m\n\u001b[0m",
            "\u001b[0;31mTypeError\u001b[0m: test5() missing 2 required positional arguments: 'a' and 'b'"
          ]
        }
      ]
    },
    {
      "cell_type": "code",
      "source": [
        "test5(1,10)          # You have to put values of 'a' and 'b     \n"
      ],
      "metadata": {
        "colab": {
          "base_uri": "https://localhost:8080/"
        },
        "id": "QiCTPhCij-Qz",
        "outputId": "f6afab08-4122-470b-effc-4ccbafa68cd6"
      },
      "execution_count": 43,
      "outputs": [
        {
          "output_type": "stream",
          "name": "stdout",
          "text": [
            "1\n",
            "2\n",
            "3\n",
            "4\n",
            "5\n",
            "6\n",
            "7\n",
            "8\n",
            "9\n",
            "10\n"
          ]
        }
      ]
    },
    {
      "cell_type": "code",
      "source": [
        "test5(3,6)"
      ],
      "metadata": {
        "colab": {
          "base_uri": "https://localhost:8080/"
        },
        "id": "qip85X9RkVOM",
        "outputId": "38f7c102-5e51-4613-ec88-4be44a258934"
      },
      "execution_count": 45,
      "outputs": [
        {
          "output_type": "stream",
          "name": "stdout",
          "text": [
            "3\n",
            "4\n",
            "5\n",
            "6\n"
          ]
        }
      ]
    },
    {
      "cell_type": "markdown",
      "source": [
        "And if we check the type of thisfunction itwill be \"none type\" \n",
        "\n",
        "but what if we need \"primitive\" type than we just have to write \"return\" over the place of \"print\"."
      ],
      "metadata": {
        "id": "u7Dfi7-NmBOw"
      }
    },
    {
      "cell_type": "code",
      "source": [
        "type(test5(3,6)) "
      ],
      "metadata": {
        "colab": {
          "base_uri": "https://localhost:8080/"
        },
        "id": "GPZq5d1DleIa",
        "outputId": "d653159e-2c3c-4db5-827e-909916b8f762"
      },
      "execution_count": 47,
      "outputs": [
        {
          "output_type": "stream",
          "name": "stdout",
          "text": [
            "3\n",
            "4\n",
            "5\n",
            "6\n"
          ]
        },
        {
          "output_type": "execute_result",
          "data": {
            "text/plain": [
              "NoneType"
            ]
          },
          "metadata": {},
          "execution_count": 47
        }
      ]
    },
    {
      "cell_type": "code",
      "source": [
        "def test5(a,b):\n",
        "  while a<=b:\n",
        "    return (a)\n",
        "    a=a+1 "
      ],
      "metadata": {
        "id": "OWHprNdPmd67"
      },
      "execution_count": 48,
      "outputs": []
    },
    {
      "cell_type": "markdown",
      "source": [
        "But here is a catch that it only give one element (it does't perform like loop)\n",
        "and if we have to get all the data we have to make a list."
      ],
      "metadata": {
        "id": "La7sSAwEo0vb"
      }
    },
    {
      "cell_type": "code",
      "source": [
        "test5(4,7)"
      ],
      "metadata": {
        "colab": {
          "base_uri": "https://localhost:8080/"
        },
        "id": "ld-PLvFUm4vu",
        "outputId": "abc1acc1-2d90-43f8-9fc7-161e9ad11cc1"
      },
      "execution_count": 49,
      "outputs": [
        {
          "output_type": "execute_result",
          "data": {
            "text/plain": [
              "4"
            ]
          },
          "metadata": {},
          "execution_count": 49
        }
      ]
    },
    {
      "cell_type": "code",
      "source": [
        "type(test5(4,6))"
      ],
      "metadata": {
        "colab": {
          "base_uri": "https://localhost:8080/"
        },
        "id": "uOyxfbV2m-Vj",
        "outputId": "c690baea-53ac-4afb-f825-1214f98de306"
      },
      "execution_count": 50,
      "outputs": [
        {
          "output_type": "execute_result",
          "data": {
            "text/plain": [
              "int"
            ]
          },
          "metadata": {},
          "execution_count": 50
        }
      ]
    },
    {
      "cell_type": "code",
      "source": [
        "def test5(a,b):\n",
        "  l=[]\n",
        "  while a<=b:\n",
        "    l.append(a)\n",
        "    a=a+1\n",
        "  return l  "
      ],
      "metadata": {
        "id": "07zNitLvnCE-"
      },
      "execution_count": 57,
      "outputs": []
    },
    {
      "cell_type": "code",
      "source": [
        "test5(1,10)"
      ],
      "metadata": {
        "colab": {
          "base_uri": "https://localhost:8080/"
        },
        "id": "RxKDJTrjp-N3",
        "outputId": "8b1b30db-287b-4daa-8d73-750addc34dca"
      },
      "execution_count": 58,
      "outputs": [
        {
          "output_type": "execute_result",
          "data": {
            "text/plain": [
              "[1, 2, 3, 4, 5, 6, 7, 8, 9, 10]"
            ]
          },
          "metadata": {},
          "execution_count": 58
        }
      ]
    },
    {
      "cell_type": "markdown",
      "source": [
        "Now if you have to create a function for identifing and seprate a \"integer\" from any list then;-"
      ],
      "metadata": {
        "id": "4laJrjGxrrkN"
      }
    },
    {
      "cell_type": "code",
      "source": [
        "l=[1,2,3,4,5,6,[87,98,65,54,21,32],\"ravvi\"]     # we have to seperste integer"
      ],
      "metadata": {
        "id": "aFE1vk_mqBCI"
      },
      "execution_count": 59,
      "outputs": []
    },
    {
      "cell_type": "code",
      "source": [
        "l1=[]\n",
        "for i in l:\n",
        "  if type(i)==int:\n",
        "    l1.append(i)"
      ],
      "metadata": {
        "id": "RF2MwLRtsLDA"
      },
      "execution_count": 60,
      "outputs": []
    },
    {
      "cell_type": "code",
      "source": [
        "l1"
      ],
      "metadata": {
        "colab": {
          "base_uri": "https://localhost:8080/"
        },
        "id": "sxXApkggspXo",
        "outputId": "0ab41c5a-f844-4abb-ffe8-563359c9acb4"
      },
      "execution_count": 61,
      "outputs": [
        {
          "output_type": "execute_result",
          "data": {
            "text/plain": [
              "[1, 2, 3, 4, 5, 6]"
            ]
          },
          "metadata": {},
          "execution_count": 61
        }
      ]
    },
    {
      "cell_type": "code",
      "source": [
        "def test6():\n",
        "  l1=[]\n",
        "  for i in l:\n",
        "    if type(i)==int:\n",
        "      l1.append(i)"
      ],
      "metadata": {
        "id": "mw91dsc_sqfw"
      },
      "execution_count": 62,
      "outputs": []
    },
    {
      "cell_type": "code",
      "source": [
        "test6()          # WE are not getting any outcome so now we will take help of \"print\" or \"return\""
      ],
      "metadata": {
        "id": "kgQ12p2QtJHe"
      },
      "execution_count": 63,
      "outputs": []
    },
    {
      "cell_type": "code",
      "source": [
        "def test6():\n",
        "  l1=[]\n",
        "  for i in l:\n",
        "    if type(i)==int:\n",
        "      l1.append(i)\n",
        "  return l1    "
      ],
      "metadata": {
        "id": "OnRmDFTStQQf"
      },
      "execution_count": 64,
      "outputs": []
    },
    {
      "cell_type": "code",
      "source": [
        "test6()"
      ],
      "metadata": {
        "colab": {
          "base_uri": "https://localhost:8080/"
        },
        "id": "lgvo_nUktuK8",
        "outputId": "1d05a109-c947-40af-d4f1-3299e463e421"
      },
      "execution_count": 66,
      "outputs": [
        {
          "output_type": "execute_result",
          "data": {
            "text/plain": [
              "[1, 2, 3, 4, 5, 6]"
            ]
          },
          "metadata": {},
          "execution_count": 66
        }
      ]
    },
    {
      "cell_type": "code",
      "source": [
        "l3=[2,3,54,568,544,653,[5,5,62,5],\"sdtre\"]"
      ],
      "metadata": {
        "id": "2LbTwyIZtvRe"
      },
      "execution_count": 67,
      "outputs": []
    },
    {
      "cell_type": "markdown",
      "source": [
        "  Nowif we have to extract from \"l3\" than we have to make some changes in function\n",
        "\n",
        "  now we will make it generic, we pass the function as an argument."
      ],
      "metadata": {
        "id": "0wpaa-WGuieg"
      }
    },
    {
      "cell_type": "code",
      "source": [
        "def test6(l):   # write here l to make it generic.\n",
        "  l1=[]\n",
        "  for i in l:\n",
        "    if type(i)==int:\n",
        "      l1.append(i)\n",
        "  return l1    "
      ],
      "metadata": {
        "id": "48NimfLuuhea"
      },
      "execution_count": 68,
      "outputs": []
    },
    {
      "cell_type": "code",
      "source": [
        "test6(l3)"
      ],
      "metadata": {
        "colab": {
          "base_uri": "https://localhost:8080/"
        },
        "id": "OqXa2nH6vJy1",
        "outputId": "8826e0be-9965-40f1-d2d5-1d5229075003"
      },
      "execution_count": 69,
      "outputs": [
        {
          "output_type": "execute_result",
          "data": {
            "text/plain": [
              "[2, 3, 54, 568, 544, 653]"
            ]
          },
          "metadata": {},
          "execution_count": 69
        }
      ]
    },
    {
      "cell_type": "code",
      "source": [
        " a=-1\n",
        " while a>-len(t):\n",
        "  if t[a]==6 or t[a]==7:\n",
        "    print('index of',t[a], 'is',a)\n",
        "  a=a-1"
      ],
      "metadata": {
        "colab": {
          "base_uri": "https://localhost:8080/"
        },
        "id": "cr2jTJgEvOM1",
        "outputId": "c775c24f-5f95-401b-a972-d11d284674c3"
      },
      "execution_count": 73,
      "outputs": [
        {
          "output_type": "stream",
          "name": "stdout",
          "text": [
            "index of 7 is -3\n",
            "index of 6 is -4\n"
          ]
        }
      ]
    },
    {
      "cell_type": "code",
      "source": [
        "t"
      ],
      "metadata": {
        "colab": {
          "base_uri": "https://localhost:8080/"
        },
        "id": "UKz3wW1Jwc8d",
        "outputId": "a7e30e93-d51d-4951-a3d1-e85afad5fb86"
      },
      "execution_count": 74,
      "outputs": [
        {
          "output_type": "execute_result",
          "data": {
            "text/plain": [
              "(3, 4, 5, 6, 7, 8, 9)"
            ]
          },
          "metadata": {},
          "execution_count": 74
        }
      ]
    },
    {
      "cell_type": "code",
      "source": [
        "def test8(t):\n",
        "   a=-1\n",
        "   while a>-len(t):\n",
        "    if t[a]==6 or t[a]==7:\n",
        "      print('index of',t[a], 'is',a)\n",
        "    a=a-1"
      ],
      "metadata": {
        "id": "n6wM6NsGweTq"
      },
      "execution_count": 75,
      "outputs": []
    },
    {
      "cell_type": "code",
      "source": [
        "t1=(454,547,7,599,6,598)"
      ],
      "metadata": {
        "id": "kQkPIDrpwsfL"
      },
      "execution_count": 78,
      "outputs": []
    },
    {
      "cell_type": "code",
      "source": [
        "test8(t1)"
      ],
      "metadata": {
        "colab": {
          "base_uri": "https://localhost:8080/"
        },
        "id": "F-UzaOeKwzi6",
        "outputId": "f79fd5f3-8060-4a55-a427-061573e1df96"
      },
      "execution_count": 79,
      "outputs": [
        {
          "output_type": "stream",
          "name": "stdout",
          "text": [
            "index of 6 is -2\n",
            "index of 7 is -4\n"
          ]
        }
      ]
    },
    {
      "cell_type": "code",
      "source": [
        "test8((1,2,7,6,3,4,5,6,5,8,7))      # We can even pass the tupledirectly"
      ],
      "metadata": {
        "colab": {
          "base_uri": "https://localhost:8080/"
        },
        "id": "vs5cxZUuw1eI",
        "outputId": "5cf66750-b520-4007-83e0-c0e716a47146"
      },
      "execution_count": 83,
      "outputs": [
        {
          "output_type": "stream",
          "name": "stdout",
          "text": [
            "index of 7 is -1\n",
            "index of 6 is -4\n",
            "index of 6 is -8\n",
            "index of 7 is -9\n"
          ]
        }
      ]
    },
    {
      "cell_type": "code",
      "source": [
        "Your First Challenge : \n",
        "    \n",
        "you have to submit it by next saturday 4th june 2022  : \n",
        "    shivan@ineuron.ai ,sudhanshu@ineuron.ai\n",
        "    \n",
        "q1 : Try to print this by using while loop \n",
        "* \n",
        "* * \n",
        "* * * \n",
        "* * * * \n",
        "* * * * * \n",
        "* * * * * * \n",
        "* * * * * * * \n",
        "* * * * * * * * \n",
        "* * * * * * * * * \n",
        "\n",
        "q2 : try to print below by using while loop : \n",
        "        \n",
        "A\n",
        "B H \n",
        "C I N\n",
        "D J o S\n",
        "E K p T W\n",
        "F L Q U X z\n",
        "G M R V Y \n",
        "\n",
        "q3 : Try to print all the number divisible by 3 in between a range of 40 - 400\n",
        "    \n",
        "q4 : Try to filter out all the vowels form below text by using while loop : \n",
        " \"\"\"Python is a high-level, interpreted, general-purpose programming language. Its design philosophy emphasizes code readability with the use of significant indentation.[32]\n",
        "\n",
        "Python is dynamically-typed and garbage-collected. It supports multiple programming paradigms, including structured (particularly procedural), object-oriented and functional programming. It is often described as a \"batteries included\" language due to its comprehensive standard library.[33][34]\n",
        "\n",
        "Guido van Rossum began working on Python in the late 1980s as a successor to the ABC programming language and first released it in 1991 as Python 0.9.0.[35] Python 2.0 was released in 2000 and introduced new features such as list comprehensions, cycle-detecting garbage collection, reference counting, and Unicode support. Python 3.0, released in 2008, was a major revision that is not completely backward-compatible with earlier versions. Python 2 was discontinued with version 2.7.18 in 2020.[36]\n",
        "\n",
        "Python consistently ranks as one of the most popular programming languagesc\"\"\" \n",
        "\n",
        "\n",
        "q5 : Try to generate all the even number between 1- 1000\n",
        "\n",
        "q6 : Define a function for all the above problem statememnt  . \n",
        "    \n",
        "q7 : write a code to get a time of your system \n",
        "\n",
        "q8 : Write a code to fetch date form your system \n",
        "\n",
        "q9 : Write a code to send a mail to your friend \n",
        "\n",
        "q10 : write a code to trigger alarm for you at scheduled time \n",
        "\n",
        "q11 : write a code to check ip address of your system \n",
        "\n",
        "q12 : Write a code to check a perticular installation in your system\n",
        "\n",
        "q13 : Write a code to convert any text in to voice \n",
        "\n",
        "q14 : you have to write a fun which will take string and return a len of \n",
        "it without using a inbuilt fun len\n",
        "\n",
        "q15 :write a fun which will be able to print an index of all premitive element which you will pass \n",
        "\n",
        "q16 : Write a fun which will take input as a dict and give me out as a list of all the values \n",
        "even in case of 2 level nesting it should work . \n",
        "\n",
        "q17 : write a function whihc will take multiple list as a input and give me concatnation of all the element as \n",
        "and output\n",
        "\n",
        "q18 : Write a function which will whould return list of all the file name from a directory . \n",
        "\n",
        "q19 : write a function whihc will be able to read a image file and show it to you .\n",
        "    \n",
        "q20 : write a function by which you will be able to append two PDF files . \n",
        "    \n",
        "q21 : write a function which can help you to filter only word file from a directory . \n",
        "    \n",
        "q22 : write a function which can read video file and play for you . \n",
        "    \n",
        "q23 : write a function which will be able to shutdonw your system . \n",
        "\n",
        "q24 : Write a function which will whould return list of all the file name from a directory . \n",
        "\n",
        "q25 : write a function whihc will be able to access your mail . \n",
        "        "
      ],
      "metadata": {
        "colab": {
          "base_uri": "https://localhost:8080/",
          "height": 130
        },
        "id": "rFxes1uWyPo7",
        "outputId": "06f0b6d2-a92e-4d23-e874-b05bfefcc2c2"
      },
      "execution_count": 84,
      "outputs": [
        {
          "output_type": "error",
          "ename": "SyntaxError",
          "evalue": "ignored",
          "traceback": [
            "\u001b[0;36m  File \u001b[0;32m\"<ipython-input-84-c6dcf58916a1>\"\u001b[0;36m, line \u001b[0;32m3\u001b[0m\n\u001b[0;31m    you have to submit it by next saturday 4th june 2022  :\u001b[0m\n\u001b[0m                                           ^\u001b[0m\n\u001b[0;31mSyntaxError\u001b[0m\u001b[0;31m:\u001b[0m invalid decimal literal\n"
          ]
        }
      ]
    },
    {
      "cell_type": "code",
      "source": [],
      "metadata": {
        "id": "2GrkFvkv2evd"
      },
      "execution_count": null,
      "outputs": []
    }
  ]
}