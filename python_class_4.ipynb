{
  "nbformat": 4,
  "nbformat_minor": 0,
  "metadata": {
    "colab": {
      "provenance": [],
      "authorship_tag": "ABX9TyOFw5R3CC1K2z3LbQUfINqK",
      "include_colab_link": true
    },
    "kernelspec": {
      "name": "python3",
      "display_name": "Python 3"
    },
    "language_info": {
      "name": "python"
    }
  },
  "cells": [
    {
      "cell_type": "markdown",
      "metadata": {
        "id": "view-in-github",
        "colab_type": "text"
      },
      "source": [
        "<a href=\"https://colab.research.google.com/github/Raviawana/python-tutorial/blob/main/python_class_4.ipynb\" target=\"_parent\"><img src=\"https://colab.research.google.com/assets/colab-badge.svg\" alt=\"Open In Colab\"/></a>"
      ]
    },
    {
      "cell_type": "code",
      "execution_count": null,
      "metadata": {
        "id": "KClEwXzIovGl"
      },
      "outputs": [],
      "source": [
        "a = 10"
      ]
    },
    {
      "cell_type": "markdown",
      "source": [
        "single equal is '=' assignment and double equal '==' is comparision"
      ],
      "metadata": {
        "id": "cIr22q0ctU85"
      }
    },
    {
      "cell_type": "code",
      "source": [
        "if a==10:\n",
        "  print('this is my first condition')"
      ],
      "metadata": {
        "colab": {
          "base_uri": "https://localhost:8080/"
        },
        "id": "kdpQW0T1sxBq",
        "outputId": "b92a383f-d147-440b-c5b3-6f5d4dc6a58c"
      },
      "execution_count": null,
      "outputs": [
        {
          "output_type": "stream",
          "name": "stdout",
          "text": [
            "this is my first condition\n"
          ]
        }
      ]
    },
    {
      "cell_type": "code",
      "source": [
        "a=10\n",
        "if a>5:\n",
        "  "
      ],
      "metadata": {
        "colab": {
          "base_uri": "https://localhost:8080/",
          "height": 130
        },
        "id": "YgGHsZ9rtEn8",
        "outputId": "eebab524-a5f3-47a6-9fea-d8fb41ca6aea"
      },
      "execution_count": null,
      "outputs": [
        {
          "output_type": "error",
          "ename": "SyntaxError",
          "evalue": "ignored",
          "traceback": [
            "\u001b[0;36m  File \u001b[0;32m\"<ipython-input-12-af87d28f3f81>\"\u001b[0;36m, line \u001b[0;32m3\u001b[0m\n\u001b[0;31m    \u001b[0m\n\u001b[0m    ^\u001b[0m\n\u001b[0;31mSyntaxError\u001b[0m\u001b[0;31m:\u001b[0m incomplete input\n"
          ]
        }
      ]
    },
    {
      "cell_type": "markdown",
      "source": [
        "Here pass will act like a boody of it that means to notdo anything"
      ],
      "metadata": {
        "id": "U4usbOI5vRlS"
      }
    },
    {
      "cell_type": "markdown",
      "source": [],
      "metadata": {
        "id": "GFRW3B-ivRid"
      }
    },
    {
      "cell_type": "code",
      "source": [
        "a=10\n",
        "if a>5:\n",
        "  pass"
      ],
      "metadata": {
        "id": "82eAJKLtuend"
      },
      "execution_count": null,
      "outputs": []
    },
    {
      "cell_type": "code",
      "source": [
        "a=10     # itwill gonna show only when given conditionis possible \n",
        "if a>8:\n",
        "  print('print this if this condition is fullfilled')"
      ],
      "metadata": {
        "colab": {
          "base_uri": "https://localhost:8080/"
        },
        "id": "5nsbNr20vKvd",
        "outputId": "fb37e57e-0f00-491d-e459-201b7f1e3e7c"
      },
      "execution_count": null,
      "outputs": [
        {
          "output_type": "stream",
          "name": "stdout",
          "text": [
            "print this if this condition is fullfilled\n"
          ]
        }
      ]
    },
    {
      "cell_type": "code",
      "source": [
        "a=10     # itwill gonna show only when given conditionis possible \n",
        "if a<8:\n",
        "  print('print this if this condition is fullfilled')"
      ],
      "metadata": {
        "id": "FVa_q_BLwX43"
      },
      "execution_count": null,
      "outputs": []
    },
    {
      "cell_type": "markdown",
      "source": [
        "now not equal to and the sign for that !="
      ],
      "metadata": {
        "id": "n7s8bqXzxcIr"
      }
    },
    {
      "cell_type": "code",
      "source": [
        "a=10\n",
        "if a != 11 :                # make sure to put colum : otherwisespace beforeprint will not appear\n",
        "  print('my sitution is false')\n",
        "else:\n",
        "   print('my condition is true')"
      ],
      "metadata": {
        "colab": {
          "base_uri": "https://localhost:8080/"
        },
        "id": "x5nyTyOOw7IO",
        "outputId": "4d136f0b-2a84-43f3-f9e1-75f3e89d7b4c"
      },
      "execution_count": null,
      "outputs": [
        {
          "output_type": "stream",
          "name": "stdout",
          "text": [
            "my sitution is false\n"
          ]
        }
      ]
    },
    {
      "cell_type": "code",
      "source": [
        "a=10\n",
        "if a==11:\n",
        "  print('we are here trying to compare 10 with 11')\n",
        "elif a == 12 :                                       #remember to clear space before if,elif,else\n",
        "    print('we are here trying to compare 10 with 12')\n",
        "else:\n",
        "      print('if all the blocks doest work print this' )"
      ],
      "metadata": {
        "colab": {
          "base_uri": "https://localhost:8080/"
        },
        "id": "eUeQFjjrx85L",
        "outputId": "5dbaefb6-4f4a-4a2e-ddff-a352177b6ded"
      },
      "execution_count": null,
      "outputs": [
        {
          "output_type": "stream",
          "name": "stdout",
          "text": [
            "if all the blocks doest work print this\n"
          ]
        }
      ]
    },
    {
      "cell_type": "code",
      "source": [
        "a=10\n",
        "if a==11:\n",
        "  print('we are here trying to compare 10 with 11')\n",
        "elif a == 10 :                                       \n",
        "    print('we are here trying to compare 10 with 12')\n",
        "else:\n",
        "      print('if all the blocks doest work print this' )"
      ],
      "metadata": {
        "colab": {
          "base_uri": "https://localhost:8080/"
        },
        "id": "Jw5VG06h6ean",
        "outputId": "cd3083de-af55-4a34-865f-7527ebf7b29f"
      },
      "execution_count": null,
      "outputs": [
        {
          "output_type": "stream",
          "name": "stdout",
          "text": [
            "we are here trying to compare 10 with 12\n"
          ]
        }
      ]
    },
    {
      "cell_type": "code",
      "source": [
        "price=500\n",
        "if price>500:\n",
        "  print('i am not able to buy the jacket')\n",
        "elif price<500:\n",
        "  print('i will be able to buy a jacket')"
      ],
      "metadata": {
        "id": "A1R9BsUM9ovg"
      },
      "execution_count": null,
      "outputs": []
    },
    {
      "cell_type": "code",
      "source": [
        "price=500\n",
        "if price>500:\n",
        "  print('i am not able to buy the jacket')\n",
        "elif price<=500:\n",
        "  print('i will be able to buy a jacket')"
      ],
      "metadata": {
        "colab": {
          "base_uri": "https://localhost:8080/"
        },
        "id": "lAS64hzL_Js8",
        "outputId": "ab120005-82b4-4909-c88b-74e5dbabece0"
      },
      "execution_count": null,
      "outputs": [
        {
          "output_type": "stream",
          "name": "stdout",
          "text": [
            "i will be able to buy a jacket\n"
          ]
        }
      ]
    },
    {
      "cell_type": "code",
      "source": [
        "price=500\n",
        "if price>500:\n",
        "  print('i am not able to buy the jacket')\n",
        "elif price<500:\n",
        "  print('i will be able to buy a jacket')\n",
        "else price==500:                   #you can not put condition with else,intedwe can make another elif \n",
        "  print('i do not know')"
      ],
      "metadata": {
        "colab": {
          "base_uri": "https://localhost:8080/",
          "height": 130
        },
        "id": "yuxxS0jG_21F",
        "outputId": "4c64195c-4e1f-456c-acaa-fa4c9272db5c"
      },
      "execution_count": null,
      "outputs": [
        {
          "output_type": "error",
          "ename": "SyntaxError",
          "evalue": "ignored",
          "traceback": [
            "\u001b[0;36m  File \u001b[0;32m\"<ipython-input-35-e2687b0b78cc>\"\u001b[0;36m, line \u001b[0;32m6\u001b[0m\n\u001b[0;31m    else price==500:                   #you can not put condition with else\u001b[0m\n\u001b[0m         ^\u001b[0m\n\u001b[0;31mSyntaxError\u001b[0m\u001b[0;31m:\u001b[0m expected ':'\n"
          ]
        }
      ]
    },
    {
      "cell_type": "code",
      "source": [
        "price<500"
      ],
      "metadata": {
        "colab": {
          "base_uri": "https://localhost:8080/"
        },
        "id": "2tTVwVNaAV0o",
        "outputId": "9f048292-302f-4cea-c5d0-2ab4aa14b9cc"
      },
      "execution_count": null,
      "outputs": [
        {
          "output_type": "execute_result",
          "data": {
            "text/plain": [
              "False"
            ]
          },
          "metadata": {},
          "execution_count": 36
        }
      ]
    },
    {
      "cell_type": "code",
      "source": [
        "price>500"
      ],
      "metadata": {
        "colab": {
          "base_uri": "https://localhost:8080/"
        },
        "id": "8NrkqTIpE7hJ",
        "outputId": "eeeb2c36-9653-43a2-89f5-49bec79c05c5"
      },
      "execution_count": null,
      "outputs": [
        {
          "output_type": "execute_result",
          "data": {
            "text/plain": [
              "False"
            ]
          },
          "metadata": {},
          "execution_count": 37
        }
      ]
    },
    {
      "cell_type": "code",
      "source": [
        "price==500"
      ],
      "metadata": {
        "colab": {
          "base_uri": "https://localhost:8080/"
        },
        "id": "MjEsicL9E-ui",
        "outputId": "c6850435-a1fb-4930-b8fe-5f2194a9b67d"
      },
      "execution_count": null,
      "outputs": [
        {
          "output_type": "execute_result",
          "data": {
            "text/plain": [
              "True"
            ]
          },
          "metadata": {},
          "execution_count": 38
        }
      ]
    },
    {
      "cell_type": "code",
      "source": [
        "l=[1,2,3,4,5,5,]"
      ],
      "metadata": {
        "id": "AI8qGm-MFAIj"
      },
      "execution_count": null,
      "outputs": []
    },
    {
      "cell_type": "code",
      "source": [
        "2 in l"
      ],
      "metadata": {
        "colab": {
          "base_uri": "https://localhost:8080/"
        },
        "id": "SOL-c5_pFae2",
        "outputId": "045010d1-ba4f-4bf8-e8bd-55f7e1e0a987"
      },
      "execution_count": null,
      "outputs": [
        {
          "output_type": "execute_result",
          "data": {
            "text/plain": [
              "True"
            ]
          },
          "metadata": {},
          "execution_count": 40
        }
      ]
    },
    {
      "cell_type": "code",
      "source": [
        "if 2 in l:\n",
        "  print('perform this task')\n",
        "else:\n",
        "  print('do not perform this task')   "
      ],
      "metadata": {
        "colab": {
          "base_uri": "https://localhost:8080/"
        },
        "id": "Wmn6zHJNFcLJ",
        "outputId": "a657b224-54e9-4881-f68a-15f444b29315"
      },
      "execution_count": null,
      "outputs": [
        {
          "output_type": "stream",
          "name": "stdout",
          "text": [
            "perform this task\n"
          ]
        }
      ]
    },
    {
      "cell_type": "code",
      "source": [
        "l"
      ],
      "metadata": {
        "colab": {
          "base_uri": "https://localhost:8080/"
        },
        "id": "pCjdz_6OF_PY",
        "outputId": "1eee3e1b-69b4-4f8f-cd19-e4293f3bce1d"
      },
      "execution_count": null,
      "outputs": [
        {
          "output_type": "execute_result",
          "data": {
            "text/plain": [
              "[1, 2, 3, 4, 5, 5]"
            ]
          },
          "metadata": {},
          "execution_count": 42
        }
      ]
    },
    {
      "cell_type": "code",
      "source": [
        "if 1 in l:                 # If 1st condition is statisfactory it will not go to another condition\n",
        "  print('add')\n",
        "elif 2 in l:\n",
        "    print('sub')\n",
        "elif 3 in l:\n",
        "  print('divide')"
      ],
      "metadata": {
        "colab": {
          "base_uri": "https://localhost:8080/"
        },
        "id": "bN0O2VZzGjMp",
        "outputId": "b8f0aed8-7220-485a-cc21-b40594af1fb6"
      },
      "execution_count": null,
      "outputs": [
        {
          "output_type": "stream",
          "name": "stdout",
          "text": [
            "add\n"
          ]
        }
      ]
    },
    {
      "cell_type": "code",
      "source": [
        "if 1 in l:\n",
        "  print('add')\n",
        "elif 2 in l:\n",
        "    print('sub')\n",
        "elif 3 in l:\n",
        "  print('divide')\n",
        "if 4 in l:                            # When another 'if' we insert than it do not have any relation with upper ones\n",
        "  print('i do not know what to write')"
      ],
      "metadata": {
        "id": "jXud4vs6GqKr",
        "colab": {
          "base_uri": "https://localhost:8080/",
          "height": 235
        },
        "outputId": "a54d8f98-900c-4065-86b3-e3bac56849bc"
      },
      "execution_count": null,
      "outputs": [
        {
          "output_type": "error",
          "ename": "NameError",
          "evalue": "ignored",
          "traceback": [
            "\u001b[0;31m---------------------------------------------------------------------------\u001b[0m",
            "\u001b[0;31mNameError\u001b[0m                                 Traceback (most recent call last)",
            "\u001b[0;32m<ipython-input-3-c3f7c4006a20>\u001b[0m in \u001b[0;36m<cell line: 1>\u001b[0;34m()\u001b[0m\n\u001b[0;32m----> 1\u001b[0;31m \u001b[0;32mif\u001b[0m \u001b[0;36m1\u001b[0m \u001b[0;32min\u001b[0m \u001b[0ml\u001b[0m\u001b[0;34m:\u001b[0m\u001b[0;34m\u001b[0m\u001b[0;34m\u001b[0m\u001b[0m\n\u001b[0m\u001b[1;32m      2\u001b[0m   \u001b[0mprint\u001b[0m\u001b[0;34m(\u001b[0m\u001b[0;34m'add'\u001b[0m\u001b[0;34m)\u001b[0m\u001b[0;34m\u001b[0m\u001b[0;34m\u001b[0m\u001b[0m\n\u001b[1;32m      3\u001b[0m \u001b[0;32melif\u001b[0m \u001b[0;36m2\u001b[0m \u001b[0;32min\u001b[0m \u001b[0ml\u001b[0m\u001b[0;34m:\u001b[0m\u001b[0;34m\u001b[0m\u001b[0;34m\u001b[0m\u001b[0m\n\u001b[1;32m      4\u001b[0m     \u001b[0mprint\u001b[0m\u001b[0;34m(\u001b[0m\u001b[0;34m'sub'\u001b[0m\u001b[0;34m)\u001b[0m\u001b[0;34m\u001b[0m\u001b[0;34m\u001b[0m\u001b[0m\n\u001b[1;32m      5\u001b[0m \u001b[0;32melif\u001b[0m \u001b[0;36m3\u001b[0m \u001b[0;32min\u001b[0m \u001b[0ml\u001b[0m\u001b[0;34m:\u001b[0m\u001b[0;34m\u001b[0m\u001b[0;34m\u001b[0m\u001b[0m\n",
            "\u001b[0;31mNameError\u001b[0m: name 'l' is not defined"
          ]
        }
      ]
    },
    {
      "cell_type": "code",
      "source": [
        "a=400"
      ],
      "metadata": {
        "id": "Gou9Hl-DKOWY"
      },
      "execution_count": null,
      "outputs": []
    },
    {
      "cell_type": "code",
      "source": [
        "b=input(450)     # it will convert data into string format"
      ],
      "metadata": {
        "id": "x1qWJ8qjNF_7"
      },
      "execution_count": null,
      "outputs": []
    },
    {
      "cell_type": "code",
      "source": [
        "b"
      ],
      "metadata": {
        "id": "EmsS7y3wNchW"
      },
      "execution_count": null,
      "outputs": []
    },
    {
      "cell_type": "code",
      "source": [
        "b=input(350)"
      ],
      "metadata": {
        "id": "ze5VLtqyNhtk",
        "colab": {
          "base_uri": "https://localhost:8080/"
        },
        "outputId": "cda31a83-b31e-4ffa-f0c1-b8dc0d0b38ba"
      },
      "execution_count": null,
      "outputs": [
        {
          "name": "stdout",
          "output_type": "stream",
          "text": [
            "3504656\n"
          ]
        }
      ]
    },
    {
      "cell_type": "code",
      "source": [
        "type(b)     #if i have to convert str into int then"
      ],
      "metadata": {
        "id": "-myhJmGIOC7i"
      },
      "execution_count": null,
      "outputs": []
    },
    {
      "cell_type": "code",
      "source": [
        "b=int(input())      # Whenever you are typecasting than you are supposed to write numeric value not a alphanumeric value"
      ],
      "metadata": {
        "id": "-mOOSH3VOHIx"
      },
      "execution_count": null,
      "outputs": []
    },
    {
      "cell_type": "code",
      "source": [
        "type(b)"
      ],
      "metadata": {
        "id": "CIsu0nHKObtl"
      },
      "execution_count": null,
      "outputs": []
    },
    {
      "cell_type": "code",
      "source": [
        "price=int(input())\n",
        "if price<500 :\n",
        "  print('i will be able to buy something')\n",
        "  if price<400:\n",
        "    print('i will be ale to buy shirt')\n",
        "  elif price>300:\n",
        "    print('i would  be able to buy jacket')\n",
        "  else:\n",
        "    print('i wont be able to buyanything ')\n",
        "else:\n",
        "  print('i wont be able to buyanything with this price tag')  "
      ],
      "metadata": {
        "id": "EPH3CbtfOiJr",
        "colab": {
          "base_uri": "https://localhost:8080/"
        },
        "outputId": "59484b54-1e91-4bf6-a656-160be4d10619"
      },
      "execution_count": null,
      "outputs": [
        {
          "output_type": "stream",
          "name": "stdout",
          "text": [
            "600\n",
            "i wont be able to buyanything with this price tag\n"
          ]
        }
      ]
    },
    {
      "cell_type": "code",
      "source": [
        "price=int(input())\n",
        "if price<500 :\n",
        "  print('i will be able to buy something')\n",
        "  if price<400:\n",
        "    print('i will be ale to buy shirt')\n",
        "  elif price>300:\n",
        "    print('i would  be able to buy jacket')\n",
        "  else:\n",
        "    print('i wont be able to buyanything ')\n",
        "else:\n",
        "  print('i wont be able to buyanything with this price tag')  "
      ],
      "metadata": {
        "colab": {
          "base_uri": "https://localhost:8080/"
        },
        "id": "XU06XnAOjN62",
        "outputId": "5545bb9e-3864-4013-e41d-e1af4762a314"
      },
      "execution_count": null,
      "outputs": [
        {
          "output_type": "stream",
          "name": "stdout",
          "text": [
            "500\n",
            "i wont be able to buyanything with this price tag\n"
          ]
        }
      ]
    },
    {
      "cell_type": "code",
      "source": [
        "price=int(input())\n",
        "if price<500 :\n",
        "  print('i will be able to buy something')\n",
        "  if price<400:\n",
        "    print('i will be ale to buy shirt')\n",
        "  elif price>300:\n",
        "    print('i would  be able to buy jacket')\n",
        "  else:\n",
        "    print('i wont be able to buyanything ')\n",
        "else:\n",
        "  print('i wont be able to buyanything with this price tag')  "
      ],
      "metadata": {
        "colab": {
          "base_uri": "https://localhost:8080/"
        },
        "id": "boBIBJJYlTfc",
        "outputId": "4dda2195-4196-44cd-8bad-8bc889031b14"
      },
      "execution_count": null,
      "outputs": [
        {
          "output_type": "stream",
          "name": "stdout",
          "text": [
            "450\n",
            "i will be able to buy something\n",
            "i would  be able to buy jacket\n"
          ]
        }
      ]
    },
    {
      "cell_type": "code",
      "source": [
        "price=int(input())\n",
        "if price<500 :\n",
        "  print('i will be able to buy something')\n",
        "  if price<400:                                                            # We can writeif block inside if block for any number of times\n",
        "    print('i will be ale to buy shirt')\n",
        "  elif price>300:\n",
        "    print('i would  be able to buy jacket')\n",
        "  else:\n",
        "    print('i wont be able to buyanything ')\n",
        "else:\n",
        "  print('i wont be able to buyanything with this price tag')  "
      ],
      "metadata": {
        "colab": {
          "base_uri": "https://localhost:8080/"
        },
        "id": "qH_sJZVIlYiK",
        "outputId": "22324186-a18e-4a9d-b1bd-181867e8ac35"
      },
      "execution_count": null,
      "outputs": [
        {
          "output_type": "stream",
          "name": "stdout",
          "text": [
            "250\n",
            "i will be able to buy something\n",
            "i will be ale to buy shirt\n"
          ]
        }
      ]
    },
    {
      "cell_type": "code",
      "source": [
        "marks=int(input())\n",
        "if marks > 600:\n",
        "  print('GRE')\n",
        "elif marks < 600:\n",
        "    print('no gre')\n",
        "    if marks >500:\n",
        "      print('toffel')\n",
        "    if marks < 400:\n",
        "      print('type something else')  "
      ],
      "metadata": {
        "colab": {
          "base_uri": "https://localhost:8080/"
        },
        "id": "xQPZ909olmtv",
        "outputId": "842206f9-8be8-478f-a4ed-4bff2dc6396e"
      },
      "execution_count": null,
      "outputs": [
        {
          "output_type": "stream",
          "name": "stdout",
          "text": [
            "200\n",
            "no gre\n",
            "type something else\n"
          ]
        }
      ]
    },
    {
      "cell_type": "code",
      "source": [
        " val=float(input('enter a floating number'))\n",
        " if val >=0:\n",
        "   if val==0:\n",
        "     print('entered value is zero')\n",
        "   else:\n",
        "     print('entered value is a positive number')\n",
        "else:\n",
        "  print('entered value is negative number')       \n",
        "  \n"
      ],
      "metadata": {
        "colab": {
          "base_uri": "https://localhost:8080/"
        },
        "id": "vx9Iore2pvvA",
        "outputId": "a6f7edf1-1242-41d9-d2d1-c8fbafcf2852"
      },
      "execution_count": null,
      "outputs": [
        {
          "output_type": "stream",
          "name": "stdout",
          "text": [
            "enter a floating number2\n",
            "entered value is a positive number\n"
          ]
        }
      ]
    },
    {
      "cell_type": "markdown",
      "source": [
        "in 'or' condition one of the condition is true than it is true\n",
        "and in 'and' condition one of the condition is false than itis false"
      ],
      "metadata": {
        "id": "hwqKoCCPx0Fd"
      }
    },
    {
      "cell_type": "code",
      "source": [
        "a=10\n",
        "if a<10 or a==10:\n",
        "  print('try something new')"
      ],
      "metadata": {
        "colab": {
          "base_uri": "https://localhost:8080/"
        },
        "id": "UOyyqj2aryVb",
        "outputId": "c7290fcd-167e-43a3-93ff-bcedae02c686"
      },
      "execution_count": null,
      "outputs": [
        {
          "output_type": "stream",
          "name": "stdout",
          "text": [
            "try something new\n"
          ]
        }
      ]
    },
    {
      "cell_type": "code",
      "source": [
        "a=10                        # It will not give any response bcz one condition is wrong\n",
        "if a>10 and a==9:\n",
        "  print('tttttt')"
      ],
      "metadata": {
        "id": "_hRLxbkfxhvm"
      },
      "execution_count": null,
      "outputs": []
    },
    {
      "cell_type": "code",
      "source": [
        "a"
      ],
      "metadata": {
        "colab": {
          "base_uri": "https://localhost:8080/"
        },
        "id": "RMLQAkRByVfn",
        "outputId": "6c0ebd32-8370-4761-aaf3-c89c13e92fb3"
      },
      "execution_count": null,
      "outputs": [
        {
          "output_type": "execute_result",
          "data": {
            "text/plain": [
              "10"
            ]
          },
          "metadata": {},
          "execution_count": 51
        }
      ]
    },
    {
      "cell_type": "code",
      "source": [
        "a='ravi'                   #python is case sensitive language\n",
        "if a=='RAVI' and  a== 'ravi':\n",
        "  print('this is ravi')"
      ],
      "metadata": {
        "id": "DsRuKgWByXXZ"
      },
      "execution_count": null,
      "outputs": []
    },
    {
      "cell_type": "code",
      "source": [
        "a='ravi'                  # magic of or\n",
        "if a=='RAVI' or  a== 'ravi':\n",
        "  print('this is ravi')"
      ],
      "metadata": {
        "colab": {
          "base_uri": "https://localhost:8080/"
        },
        "id": "50v5Up9LzTgw",
        "outputId": "03021fe4-7cba-46dd-81cc-bb607835d7f4"
      },
      "execution_count": null,
      "outputs": [
        {
          "output_type": "stream",
          "name": "stdout",
          "text": [
            "this is ravi\n"
          ]
        }
      ]
    },
    {
      "cell_type": "code",
      "source": [],
      "metadata": {
        "id": "cAK8xh5lzoI7"
      },
      "execution_count": null,
      "outputs": []
    }
  ]
}