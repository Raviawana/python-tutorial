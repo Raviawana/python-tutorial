{
  "nbformat": 4,
  "nbformat_minor": 0,
  "metadata": {
    "colab": {
      "provenance": [],
      "authorship_tag": "ABX9TyM3oH2RF8PHZcnCVxUed+yh",
      "include_colab_link": true
    },
    "kernelspec": {
      "name": "python3",
      "display_name": "Python 3"
    },
    "language_info": {
      "name": "python"
    }
  },
  "cells": [
    {
      "cell_type": "markdown",
      "metadata": {
        "id": "view-in-github",
        "colab_type": "text"
      },
      "source": [
        "<a href=\"https://colab.research.google.com/github/Raviawana/python-tutorial/blob/main/pythonclass5.ipynb\" target=\"_parent\"><img src=\"https://colab.research.google.com/assets/colab-badge.svg\" alt=\"Open In Colab\"/></a>"
      ]
    },
    {
      "cell_type": "markdown",
      "source": [
        "**LOOP** (for)"
      ],
      "metadata": {
        "id": "d8wbQuPMZid0"
      }
    },
    {
      "cell_type": "code",
      "execution_count": 4,
      "metadata": {
        "id": "hgbCR5UCRssE"
      },
      "outputs": [],
      "source": [
        "l=[1,2,3,4,5,\"ravi\"\"gurjar\",543.25]"
      ]
    },
    {
      "cell_type": "markdown",
      "source": [
        "Meaning of i in below code is i will gonna be each index that are available in our list from the very first element in our list and after that to next one and than again in loop perform same activity."
      ],
      "metadata": {
        "id": "seaugKOscbuo"
      }
    },
    {
      "cell_type": "code",
      "source": [
        "for i in l:\n",
        "  print(i)"
      ],
      "metadata": {
        "colab": {
          "base_uri": "https://localhost:8080/"
        },
        "id": "oq97eAzrcVJr",
        "outputId": "d82ad100-af20-4da4-e38a-32a338ff1e22"
      },
      "execution_count": 3,
      "outputs": [
        {
          "output_type": "stream",
          "name": "stdout",
          "text": [
            "1\n",
            "2\n",
            "3\n",
            "4\n",
            "5\n",
            "ravigurjar\n",
            "543.25\n"
          ]
        }
      ]
    },
    {
      "cell_type": "code",
      "source": [
        "for i in l:\n",
        "  if i == int:\n",
        "    print(i+2)\n",
        "  elif i == str or float:\n",
        "    print(i)"
      ],
      "metadata": {
        "colab": {
          "base_uri": "https://localhost:8080/"
        },
        "id": "cwgOOmRybS5r",
        "outputId": "f0f788da-3f97-4de6-b45f-7c8697700787"
      },
      "execution_count": 2,
      "outputs": [
        {
          "output_type": "stream",
          "name": "stdout",
          "text": [
            "1\n",
            "2\n",
            "3\n",
            "4\n",
            "5\n",
            "ravigurjar\n",
            "543.25\n"
          ]
        }
      ]
    },
    {
      "cell_type": "code",
      "source": [
        "s='ravindra'"
      ],
      "metadata": {
        "id": "_yritM96cD7S"
      },
      "execution_count": 4,
      "outputs": []
    },
    {
      "cell_type": "code",
      "source": [
        "for i in s :\n",
        "  print(i)"
      ],
      "metadata": {
        "colab": {
          "base_uri": "https://localhost:8080/"
        },
        "id": "tF43-QXQfnoN",
        "outputId": "b0cc2851-7f11-4dac-a91b-5fb55c4b045e"
      },
      "execution_count": 5,
      "outputs": [
        {
          "output_type": "stream",
          "name": "stdout",
          "text": [
            "r\n",
            "a\n",
            "v\n",
            "i\n",
            "n\n",
            "d\n",
            "r\n",
            "a\n"
          ]
        }
      ]
    },
    {
      "cell_type": "code",
      "source": [
        "len(s)"
      ],
      "metadata": {
        "colab": {
          "base_uri": "https://localhost:8080/"
        },
        "id": "G0jUjjaGfrjE",
        "outputId": "8d4e2c3c-83a1-4c1e-e4db-b6aecae2f393"
      },
      "execution_count": 6,
      "outputs": [
        {
          "output_type": "execute_result",
          "data": {
            "text/plain": [
              "8"
            ]
          },
          "metadata": {},
          "execution_count": 6
        }
      ]
    },
    {
      "cell_type": "code",
      "source": [
        "type(s)"
      ],
      "metadata": {
        "colab": {
          "base_uri": "https://localhost:8080/"
        },
        "id": "G0GP5t2FfwqI",
        "outputId": "47f140f7-b74a-45d7-f6a6-910ea36e076c"
      },
      "execution_count": 7,
      "outputs": [
        {
          "output_type": "execute_result",
          "data": {
            "text/plain": [
              "str"
            ]
          },
          "metadata": {},
          "execution_count": 7
        }
      ]
    },
    {
      "cell_type": "code",
      "source": [
        "l"
      ],
      "metadata": {
        "colab": {
          "base_uri": "https://localhost:8080/"
        },
        "id": "tBi9ZKd3fzHk",
        "outputId": "3299f608-039f-43e3-9cb5-065258c9af6e"
      },
      "execution_count": 8,
      "outputs": [
        {
          "output_type": "execute_result",
          "data": {
            "text/plain": [
              "[1, 2, 3, 4, 5, 'ravigurjar', 543.25]"
            ]
          },
          "metadata": {},
          "execution_count": 8
        }
      ]
    },
    {
      "cell_type": "code",
      "source": [
        "for i in l:           # SITUTION .1\n",
        "  print(i)\n",
        "else:\n",
        "  print(\"this will execute only when for loop have to complete\")  "
      ],
      "metadata": {
        "colab": {
          "base_uri": "https://localhost:8080/"
        },
        "id": "SwtKraK4hANF",
        "outputId": "4da94fb1-d065-42c5-cf0b-b8d7037b66c3"
      },
      "execution_count": 10,
      "outputs": [
        {
          "output_type": "stream",
          "name": "stdout",
          "text": [
            "1\n",
            "2\n",
            "3\n",
            "4\n",
            "5\n",
            "ravigurjar\n",
            "543.25\n",
            "this will execute only when for loop have to complete\n"
          ]
        }
      ]
    },
    {
      "cell_type": "code",
      "source": [
        "for i in l:      # Sitution .2\n",
        "  if i == 4:\n",
        "      break\n",
        "  print(i)\n",
        "else:\n",
        "  print('this will execute only when for loop have to complete')   "
      ],
      "metadata": {
        "colab": {
          "base_uri": "https://localhost:8080/"
        },
        "id": "LSnjCszzhe9D",
        "outputId": "d7b75ba7-ed80-44a4-f23e-33cbf1b28523"
      },
      "execution_count": 26,
      "outputs": [
        {
          "output_type": "stream",
          "name": "stdout",
          "text": [
            "1\n",
            "2\n",
            "3\n"
          ]
        }
      ]
    },
    {
      "cell_type": "markdown",
      "source": [
        "Difference between both above conditions is in number 1 loop end by itself after completing whole process \n",
        "and in number 2 we broke loop earlier "
      ],
      "metadata": {
        "id": "WxHwBuCFipNt"
      }
    },
    {
      "cell_type": "markdown",
      "source": [
        "we can run it in list,str,even in tuples"
      ],
      "metadata": {
        "id": "TVHt1nhupsDz"
      }
    },
    {
      "cell_type": "code",
      "source": [
        "t=(1,2,3,4,5,'ravi')  "
      ],
      "metadata": {
        "id": "DmuzDPAviIT6"
      },
      "execution_count": 3,
      "outputs": []
    },
    {
      "cell_type": "code",
      "source": [
        "for i in t :\n",
        "  print(i)"
      ],
      "metadata": {
        "colab": {
          "base_uri": "https://localhost:8080/"
        },
        "id": "vV7nTFfEp6rf",
        "outputId": "770ceb90-0a49-4727-8189-d8deb0453be8"
      },
      "execution_count": 28,
      "outputs": [
        {
          "output_type": "stream",
          "name": "stdout",
          "text": [
            "1\n",
            "2\n",
            "3\n",
            "4\n",
            "5\n",
            "ravi\n"
          ]
        }
      ]
    },
    {
      "cell_type": "code",
      "source": [
        "b={1,2,3,3,3,3,4,4,4,4,4,'ravi'}                   # Set"
      ],
      "metadata": {
        "id": "Oz_LlyJWqDco"
      },
      "execution_count": 2,
      "outputs": []
    },
    {
      "cell_type": "code",
      "source": [
        "type(b)"
      ],
      "metadata": {
        "colab": {
          "base_uri": "https://localhost:8080/"
        },
        "id": "K2PoH6jFqf7l",
        "outputId": "2fdd8d37-ae6b-455c-9108-11d423f3b37a"
      },
      "execution_count": 30,
      "outputs": [
        {
          "output_type": "execute_result",
          "data": {
            "text/plain": [
              "set"
            ]
          },
          "metadata": {},
          "execution_count": 30
        }
      ]
    },
    {
      "cell_type": "code",
      "source": [
        "b                                                   # Automaticly remove repetation"
      ],
      "metadata": {
        "colab": {
          "base_uri": "https://localhost:8080/"
        },
        "id": "vxweZ0Zbqhst",
        "outputId": "7350ada6-6d25-4c8c-d556-e55093e46153"
      },
      "execution_count": 31,
      "outputs": [
        {
          "output_type": "execute_result",
          "data": {
            "text/plain": [
              "{1, 2, 3, 4, 'ravi'}"
            ]
          },
          "metadata": {},
          "execution_count": 31
        }
      ]
    },
    {
      "cell_type": "code",
      "source": [
        "for i in b:\n",
        "  print(i)"
      ],
      "metadata": {
        "colab": {
          "base_uri": "https://localhost:8080/"
        },
        "id": "Ysz4d99fqinO",
        "outputId": "0f842e0c-354e-4d07-a84b-4d82b8b66687"
      },
      "execution_count": 32,
      "outputs": [
        {
          "output_type": "stream",
          "name": "stdout",
          "text": [
            "1\n",
            "2\n",
            "3\n",
            "4\n",
            "ravi\n"
          ]
        }
      ]
    },
    {
      "cell_type": "code",
      "source": [
        "d={'ravi':\"gurjar\",\"school\":\"tps\"}"
      ],
      "metadata": {
        "id": "mHVGtxsOq8I1"
      },
      "execution_count": 3,
      "outputs": []
    },
    {
      "cell_type": "code",
      "source": [
        "for i in d:              #it only gives keys\n",
        "  print(i)"
      ],
      "metadata": {
        "colab": {
          "base_uri": "https://localhost:8080/"
        },
        "id": "iw5C3vmLrQD3",
        "outputId": "7589f13a-981a-4972-bf3d-6eeb18776227"
      },
      "execution_count": 36,
      "outputs": [
        {
          "output_type": "stream",
          "name": "stdout",
          "text": [
            "ravi\n",
            "school\n"
          ]
        }
      ]
    },
    {
      "cell_type": "code",
      "source": [
        "d['ravi']"
      ],
      "metadata": {
        "colab": {
          "base_uri": "https://localhost:8080/",
          "height": 35
        },
        "id": "ahhYlhJNrTEW",
        "outputId": "b237e6d2-6b4e-487e-c10f-ad30d6632c45"
      },
      "execution_count": 37,
      "outputs": [
        {
          "output_type": "execute_result",
          "data": {
            "text/plain": [
              "'gurjar'"
            ],
            "application/vnd.google.colaboratory.intrinsic+json": {
              "type": "string"
            }
          },
          "metadata": {},
          "execution_count": 37
        }
      ]
    },
    {
      "cell_type": "code",
      "source": [
        "for i in d:              # For values\n",
        "  print(d[i])"
      ],
      "metadata": {
        "colab": {
          "base_uri": "https://localhost:8080/"
        },
        "id": "zTEaIAA_tKbz",
        "outputId": "0088eb2a-0490-4845-ef0a-3c73db411b08"
      },
      "execution_count": 39,
      "outputs": [
        {
          "output_type": "stream",
          "name": "stdout",
          "text": [
            "gurjar\n",
            "tps\n"
          ]
        }
      ]
    },
    {
      "cell_type": "code",
      "source": [
        "range(9)"
      ],
      "metadata": {
        "colab": {
          "base_uri": "https://localhost:8080/"
        },
        "id": "SUIKtYQ1tVh6",
        "outputId": "cbebe2f3-a117-4f2c-eb43-979fc58fc06a"
      },
      "execution_count": 40,
      "outputs": [
        {
          "output_type": "execute_result",
          "data": {
            "text/plain": [
              "range(0, 9)"
            ]
          },
          "metadata": {},
          "execution_count": 40
        }
      ]
    },
    {
      "cell_type": "code",
      "source": [
        "list(range(9))             # It excludes 9(upper limit)"
      ],
      "metadata": {
        "colab": {
          "base_uri": "https://localhost:8080/"
        },
        "id": "3kgS_UqyuZLM",
        "outputId": "1e3dd4bc-0e7e-4782-a03b-00f83fe734df"
      },
      "execution_count": 41,
      "outputs": [
        {
          "output_type": "execute_result",
          "data": {
            "text/plain": [
              "[0, 1, 2, 3, 4, 5, 6, 7, 8]"
            ]
          },
          "metadata": {},
          "execution_count": 41
        }
      ]
    },
    {
      "cell_type": "code",
      "source": [
        "for i in range(9):\n",
        "  print(i)\n",
        "              "
      ],
      "metadata": {
        "colab": {
          "base_uri": "https://localhost:8080/"
        },
        "id": "6xd8Amp2ulQT",
        "outputId": "80ef4b55-c7c1-43a9-e987-180fb0c1124b"
      },
      "execution_count": 42,
      "outputs": [
        {
          "output_type": "stream",
          "name": "stdout",
          "text": [
            "0\n",
            "1\n",
            "2\n",
            "3\n",
            "4\n",
            "5\n",
            "6\n",
            "7\n",
            "8\n"
          ]
        }
      ]
    },
    {
      "cell_type": "code",
      "source": [
        "l=[0,1,2,3,4,5,6]"
      ],
      "metadata": {
        "id": "A53yEGocwHR5"
      },
      "execution_count": 43,
      "outputs": []
    },
    {
      "cell_type": "code",
      "source": [
        "range(0,9)"
      ],
      "metadata": {
        "colab": {
          "base_uri": "https://localhost:8080/"
        },
        "id": "zvfHiZW4zHMl",
        "outputId": "516ced51-e922-4f76-8c52-2fdee025e0de"
      },
      "execution_count": 7,
      "outputs": [
        {
          "output_type": "execute_result",
          "data": {
            "text/plain": [
              "range(0, 9)"
            ]
          },
          "metadata": {},
          "execution_count": 7
        }
      ]
    },
    {
      "cell_type": "code",
      "source": [
        "list(range(9))"
      ],
      "metadata": {
        "colab": {
          "base_uri": "https://localhost:8080/"
        },
        "id": "qONMqIbvN5zj",
        "outputId": "b5531e01-6687-403b-bacf-085c5e8200db"
      },
      "execution_count": 8,
      "outputs": [
        {
          "output_type": "execute_result",
          "data": {
            "text/plain": [
              "[0, 1, 2, 3, 4, 5, 6, 7, 8]"
            ]
          },
          "metadata": {},
          "execution_count": 8
        }
      ]
    },
    {
      "cell_type": "code",
      "source": [
        "for i in range(9):\n",
        "  print(i)"
      ],
      "metadata": {
        "colab": {
          "base_uri": "https://localhost:8080/"
        },
        "id": "oerZe3PGOH6y",
        "outputId": "363e0701-15d4-417f-94c3-5a2363b351a6"
      },
      "execution_count": 9,
      "outputs": [
        {
          "output_type": "stream",
          "name": "stdout",
          "text": [
            "0\n",
            "1\n",
            "2\n",
            "3\n",
            "4\n",
            "5\n",
            "6\n",
            "7\n",
            "8\n"
          ]
        }
      ]
    },
    {
      "cell_type": "code",
      "source": [
        "list(range(0,9,2))"
      ],
      "metadata": {
        "colab": {
          "base_uri": "https://localhost:8080/"
        },
        "id": "M8GkL54xOVJT",
        "outputId": "4d8a498e-622c-46bb-a905-111f87b7107d"
      },
      "execution_count": 11,
      "outputs": [
        {
          "output_type": "execute_result",
          "data": {
            "text/plain": [
              "[0, 2, 4, 6, 8]"
            ]
          },
          "metadata": {},
          "execution_count": 11
        }
      ]
    },
    {
      "cell_type": "code",
      "source": [
        "list(range(9,0,-1))"
      ],
      "metadata": {
        "colab": {
          "base_uri": "https://localhost:8080/"
        },
        "id": "LLSX9p5UOdxn",
        "outputId": "fc9269be-3f11-4904-ca26-f410e0db63ee"
      },
      "execution_count": 13,
      "outputs": [
        {
          "output_type": "execute_result",
          "data": {
            "text/plain": [
              "[9, 8, 7, 6, 5, 4, 3, 2, 1]"
            ]
          },
          "metadata": {},
          "execution_count": 13
        }
      ]
    },
    {
      "cell_type": "code",
      "source": [
        "n=10\n",
        "for i in range(10):\n",
        "  for j in range(0,i+1):\n",
        "    print('ravi',end=\" \")\n",
        "  print(\"\\n\")  "
      ],
      "metadata": {
        "colab": {
          "base_uri": "https://localhost:8080/"
        },
        "id": "54dkVi8pOqjR",
        "outputId": "8bda6b13-1243-48a5-d2ee-4b33b0ac59a7"
      },
      "execution_count": 18,
      "outputs": [
        {
          "output_type": "stream",
          "name": "stdout",
          "text": [
            "ravi \n",
            "\n",
            "ravi ravi \n",
            "\n",
            "ravi ravi ravi \n",
            "\n",
            "ravi ravi ravi ravi \n",
            "\n",
            "ravi ravi ravi ravi ravi \n",
            "\n",
            "ravi ravi ravi ravi ravi ravi \n",
            "\n",
            "ravi ravi ravi ravi ravi ravi ravi \n",
            "\n",
            "ravi ravi ravi ravi ravi ravi ravi ravi \n",
            "\n",
            "ravi ravi ravi ravi ravi ravi ravi ravi ravi \n",
            "\n",
            "ravi ravi ravi ravi ravi ravi ravi ravi ravi ravi \n",
            "\n"
          ]
        }
      ]
    },
    {
      "cell_type": "code",
      "source": [
        "n=10\n",
        "for i in range(10):\n",
        "  for j in range(i,n-1):\n",
        "    print(\" \",end=\"ravi\")\n",
        "  print(\"\\n\")  "
      ],
      "metadata": {
        "colab": {
          "base_uri": "https://localhost:8080/"
        },
        "id": "sX1eEyWYQUVk",
        "outputId": "8afdcaa4-eafe-4522-8508-a5da0f9d7975"
      },
      "execution_count": 26,
      "outputs": [
        {
          "output_type": "stream",
          "name": "stdout",
          "text": [
            " ravi ravi ravi ravi ravi ravi ravi ravi ravi\n",
            "\n",
            " ravi ravi ravi ravi ravi ravi ravi ravi\n",
            "\n",
            " ravi ravi ravi ravi ravi ravi ravi\n",
            "\n",
            " ravi ravi ravi ravi ravi ravi\n",
            "\n",
            " ravi ravi ravi ravi ravi\n",
            "\n",
            " ravi ravi ravi ravi\n",
            "\n",
            " ravi ravi ravi\n",
            "\n",
            " ravi ravi\n",
            "\n",
            " ravi\n",
            "\n",
            "\n",
            "\n"
          ]
        }
      ]
    },
    {
      "cell_type": "code",
      "source": [
        "n=4\n",
        "for i in range(n):\n",
        "  for j in range(i,n-1):\n",
        "     print(\" \" * len(\"ravi\"),end=\" \")\n",
        "  for j in range(i+1):\n",
        "     print('ravi',end=' ')\n",
        "  for j in range(i):\n",
        "     print('ravi',end=' ')\n",
        "  print()  "
      ],
      "metadata": {
        "colab": {
          "base_uri": "https://localhost:8080/"
        },
        "id": "OF0MvDeuTXcA",
        "outputId": "55131c1e-8ca8-4446-d095-1b7c78bf9df2"
      },
      "execution_count": 11,
      "outputs": [
        {
          "output_type": "stream",
          "name": "stdout",
          "text": [
            "               ravi \n",
            "          ravi ravi ravi \n",
            "     ravi ravi ravi ravi ravi \n",
            "ravi ravi ravi ravi ravi ravi ravi \n"
          ]
        }
      ]
    },
    {
      "cell_type": "code",
      "source": [
        "n=4\n",
        "for i in range(n):\n",
        "  for j in range(i,n-1):\n",
        "     print(\" \" * len(\"ravi\"),end=\" \")\n",
        "  for j in range(i+1):\n",
        "     print('ravi',end=' ')\n",
        "  for j in range(i):\n",
        "     print('ravi',end=' ')\n",
        "   "
      ],
      "metadata": {
        "colab": {
          "base_uri": "https://localhost:8080/"
        },
        "id": "VN__QE6kmUeb",
        "outputId": "a7b0c56d-75d8-42e3-a927-45add34022b5"
      },
      "execution_count": 12,
      "outputs": [
        {
          "output_type": "stream",
          "name": "stdout",
          "text": [
            "               ravi           ravi ravi ravi      ravi ravi ravi ravi ravi ravi ravi ravi ravi ravi ravi ravi "
          ]
        }
      ]
    },
    {
      "cell_type": "code",
      "source": [
        "n=3\n",
        "for i in range(n):\n",
        "  for j in range(i,n-1):\n",
        "     print(\" \" * len(\"ravi\"))\n",
        "  for j in range(i+1):\n",
        "     print('ravi')\n",
        "  for j in range(i):\n",
        "     print('ravi')\n",
        "  print()  "
      ],
      "metadata": {
        "colab": {
          "base_uri": "https://localhost:8080/"
        },
        "id": "n3WcKHhJ4qDM",
        "outputId": "e2ce2918-ff9e-4283-a72e-d18407977dad"
      },
      "execution_count": 14,
      "outputs": [
        {
          "output_type": "stream",
          "name": "stdout",
          "text": [
            "    \n",
            "    \n",
            "ravi\n",
            "\n",
            "    \n",
            "ravi\n",
            "ravi\n",
            "ravi\n",
            "\n",
            "ravi\n",
            "ravi\n",
            "ravi\n",
            "ravi\n",
            "ravi\n",
            "\n"
          ]
        }
      ]
    },
    {
      "cell_type": "code",
      "source": [
        "t=(3,23,45,67,2,4,5,6)"
      ],
      "metadata": {
        "id": "UzQqitgfCSuq"
      },
      "execution_count": 15,
      "outputs": []
    },
    {
      "cell_type": "code",
      "source": [
        "len(t)"
      ],
      "metadata": {
        "colab": {
          "base_uri": "https://localhost:8080/"
        },
        "id": "zxeprpQrDdfa",
        "outputId": "0259b940-3ded-4d0c-dc27-1bac0998a5dd"
      },
      "execution_count": 16,
      "outputs": [
        {
          "output_type": "execute_result",
          "data": {
            "text/plain": [
              "8"
            ]
          },
          "metadata": {},
          "execution_count": 16
        }
      ]
    },
    {
      "cell_type": "code",
      "source": [
        "t[4]"
      ],
      "metadata": {
        "colab": {
          "base_uri": "https://localhost:8080/"
        },
        "id": "ktBh_BjmDixR",
        "outputId": "3850676b-10be-45b4-bb8d-f68c00fe8895"
      },
      "execution_count": 19,
      "outputs": [
        {
          "output_type": "execute_result",
          "data": {
            "text/plain": [
              "2"
            ]
          },
          "metadata": {},
          "execution_count": 19
        }
      ]
    },
    {
      "cell_type": "code",
      "source": [
        "for i in range(len(t)):\n",
        "  print(i,t[i])"
      ],
      "metadata": {
        "colab": {
          "base_uri": "https://localhost:8080/"
        },
        "id": "JyWWkTgEDofI",
        "outputId": "97b0bf59-4ee4-4a42-dd52-f57af493f712"
      },
      "execution_count": 21,
      "outputs": [
        {
          "output_type": "stream",
          "name": "stdout",
          "text": [
            "0 3\n",
            "1 23\n",
            "2 45\n",
            "3 67\n",
            "4 2\n",
            "5 4\n",
            "6 5\n",
            "7 6\n"
          ]
        }
      ]
    },
    {
      "cell_type": "code",
      "source": [
        "y='ravindra'"
      ],
      "metadata": {
        "id": "QAqzQWrQEk4a"
      },
      "execution_count": 23,
      "outputs": []
    },
    {
      "cell_type": "code",
      "source": [
        "for i in range(len(y)):\n",
        "  print(i,y[i])"
      ],
      "metadata": {
        "colab": {
          "base_uri": "https://localhost:8080/"
        },
        "id": "wCxTDfPMHvG5",
        "outputId": "d10d39f4-10e1-41b6-a088-164875ad91ca"
      },
      "execution_count": 24,
      "outputs": [
        {
          "output_type": "stream",
          "name": "stdout",
          "text": [
            "0 r\n",
            "1 a\n",
            "2 v\n",
            "3 i\n",
            "4 n\n",
            "5 d\n",
            "6 r\n",
            "7 a\n"
          ]
        }
      ]
    },
    {
      "cell_type": "code",
      "source": [
        "y"
      ],
      "metadata": {
        "colab": {
          "base_uri": "https://localhost:8080/",
          "height": 35
        },
        "id": "GRy3xJJgJAC8",
        "outputId": "5b95d338-2bc9-4d47-be48-99fad31ec817"
      },
      "execution_count": 26,
      "outputs": [
        {
          "output_type": "execute_result",
          "data": {
            "text/plain": [
              "'ravindra'"
            ],
            "application/vnd.google.colaboratory.intrinsic+json": {
              "type": "string"
            }
          },
          "metadata": {},
          "execution_count": 26
        }
      ]
    },
    {
      "cell_type": "code",
      "source": [
        "for i in range(len(y)-1,-1,-1):                   #first -1 to reduce numbers to 7,second is to put 0 bcz it is a upper bound, third one is for reverse order\n",
        "  print(i)"
      ],
      "metadata": {
        "colab": {
          "base_uri": "https://localhost:8080/"
        },
        "id": "M73q1WKFKMO9",
        "outputId": "8a55a085-be11-441d-f08c-676d12c2813a"
      },
      "execution_count": 29,
      "outputs": [
        {
          "output_type": "stream",
          "name": "stdout",
          "text": [
            "7\n",
            "6\n",
            "5\n",
            "4\n",
            "3\n",
            "2\n",
            "1\n",
            "0\n"
          ]
        }
      ]
    },
    {
      "cell_type": "code",
      "source": [
        "for i in range(len(y)-1,-1,-1):                   #first -1 to reduce numbers to 7,second is to put 0 bcz it is a upper bound, third one is for reverse order\n",
        "  print(i,y[i])"
      ],
      "metadata": {
        "colab": {
          "base_uri": "https://localhost:8080/"
        },
        "id": "QNM-BA5mKg5g",
        "outputId": "f27773e8-495d-4c69-dd73-e4d4e6ba6430"
      },
      "execution_count": 30,
      "outputs": [
        {
          "output_type": "stream",
          "name": "stdout",
          "text": [
            "7 a\n",
            "6 r\n",
            "5 d\n",
            "4 n\n",
            "3 i\n",
            "2 v\n",
            "1 a\n",
            "0 r\n"
          ]
        }
      ]
    },
    {
      "cell_type": "code",
      "source": [
        "d"
      ],
      "metadata": {
        "colab": {
          "base_uri": "https://localhost:8080/"
        },
        "id": "JRKpOgtRLcHH",
        "outputId": "f00bdfaa-fccb-40f4-f8a1-01b33b1b74c4"
      },
      "execution_count": 4,
      "outputs": [
        {
          "output_type": "execute_result",
          "data": {
            "text/plain": [
              "{'ravi': 'gurjar', 'school': 'tps'}"
            ]
          },
          "metadata": {},
          "execution_count": 4
        }
      ]
    },
    {
      "cell_type": "code",
      "source": [
        "d.items()"
      ],
      "metadata": {
        "colab": {
          "base_uri": "https://localhost:8080/"
        },
        "id": "YZuOLAWZLyNL",
        "outputId": "c682b496-b9bc-463f-a19e-b22c1c820c87"
      },
      "execution_count": 5,
      "outputs": [
        {
          "output_type": "execute_result",
          "data": {
            "text/plain": [
              "dict_items([('ravi', 'gurjar'), ('school', 'tps')])"
            ]
          },
          "metadata": {},
          "execution_count": 5
        }
      ]
    },
    {
      "cell_type": "code",
      "source": [
        "for i in d.items():\n",
        "  print(i)"
      ],
      "metadata": {
        "colab": {
          "base_uri": "https://localhost:8080/"
        },
        "id": "GNBgynN0xF3X",
        "outputId": "ec2fed2a-9aec-41b2-e896-b245cfa87c51"
      },
      "execution_count": 6,
      "outputs": [
        {
          "output_type": "stream",
          "name": "stdout",
          "text": [
            "('ravi', 'gurjar')\n",
            "('school', 'tps')\n"
          ]
        }
      ]
    },
    {
      "cell_type": "code",
      "source": [
        "for i in d.items():                #if you have to mention type beside elements\n",
        "  print(i,type(i))"
      ],
      "metadata": {
        "colab": {
          "base_uri": "https://localhost:8080/"
        },
        "id": "_9k-oForxStJ",
        "outputId": "bbccf9f0-9d9d-47e6-b7ba-e722197c403a"
      },
      "execution_count": 7,
      "outputs": [
        {
          "output_type": "stream",
          "name": "stdout",
          "text": [
            "('ravi', 'gurjar') <class 'tuple'>\n",
            "('school', 'tps') <class 'tuple'>\n"
          ]
        }
      ]
    },
    {
      "cell_type": "markdown",
      "source": [
        "if we have to write type of values than (bcz in tuples values are written on 1 index"
      ],
      "metadata": {
        "id": "NqSQ7OPbyZA1"
      }
    },
    {
      "cell_type": "code",
      "source": [
        "for i in d.items():\n",
        "  print(i,type(i),type(i[1]))"
      ],
      "metadata": {
        "colab": {
          "base_uri": "https://localhost:8080/"
        },
        "id": "GFk86bQ2xqIb",
        "outputId": "960201f7-ab52-4286-f61a-31ae8c8b55f0"
      },
      "execution_count": 8,
      "outputs": [
        {
          "output_type": "stream",
          "name": "stdout",
          "text": [
            "('ravi', 'gurjar') <class 'tuple'> <class 'str'>\n",
            "('school', 'tps') <class 'tuple'> <class 'str'>\n"
          ]
        }
      ]
    },
    {
      "cell_type": "code",
      "source": [
        "l=['ravi','gurjar',8058298669,'ravigurjarrr@gmail.com',1236,241]"
      ],
      "metadata": {
        "id": "sTjvh0y6y23-"
      },
      "execution_count": 9,
      "outputs": []
    },
    {
      "cell_type": "code",
      "source": [
        "l1=[]\n",
        "for i in l:\n",
        "  if type(i)==int:\n",
        "    l1.append(i)\n",
        "\n",
        "\n"
      ],
      "metadata": {
        "id": "cHZsavTJzmuF"
      },
      "execution_count": 10,
      "outputs": []
    },
    {
      "cell_type": "code",
      "source": [
        "l1"
      ],
      "metadata": {
        "colab": {
          "base_uri": "https://localhost:8080/"
        },
        "id": "aITsU4-q08mh",
        "outputId": "688ba285-b9bd-4c3e-8953-a09c4ee41e1a"
      },
      "execution_count": 11,
      "outputs": [
        {
          "output_type": "execute_result",
          "data": {
            "text/plain": [
              "[8058298669, 1236, 241]"
            ]
          },
          "metadata": {},
          "execution_count": 11
        }
      ]
    },
    {
      "cell_type": "code",
      "source": [
        "d1={\"name\" : \"ravi\" , \"email_id\" : \"ravigurjarrr@gmail.com\",234 : 12155,245 : \"sdfggg\"}"
      ],
      "metadata": {
        "id": "7nEsvJoh0_0H"
      },
      "execution_count": 18,
      "outputs": []
    },
    {
      "cell_type": "code",
      "source": [
        "d1.items()"
      ],
      "metadata": {
        "colab": {
          "base_uri": "https://localhost:8080/"
        },
        "id": "9ff_xLgm3eug",
        "outputId": "be754220-4d63-4e34-c067-ac22d70d75b0"
      },
      "execution_count": 22,
      "outputs": [
        {
          "output_type": "execute_result",
          "data": {
            "text/plain": [
              "dict_items([('name', 'ravi'), ('email_id', 'ravigurjarrr@gmail.com'), (234, 12155), (245, 'sdfggg')])"
            ]
          },
          "metadata": {},
          "execution_count": 22
        }
      ]
    },
    {
      "cell_type": "code",
      "source": [
        "for i in d1:                 #but here are only values\n",
        " if type(i)==int:\n",
        "   print(i)"
      ],
      "metadata": {
        "colab": {
          "base_uri": "https://localhost:8080/"
        },
        "id": "NtnruWiv2Kgc",
        "outputId": "ea23d5b3-0598-4456-9fa0-458557e6182c"
      },
      "execution_count": 26,
      "outputs": [
        {
          "output_type": "stream",
          "name": "stdout",
          "text": [
            "234\n",
            "245\n"
          ]
        }
      ]
    },
    {
      "cell_type": "code",
      "source": [
        "for i in d1:\n",
        "  if type(i)==int:\n",
        "    print(i,\":\",d1[i])"
      ],
      "metadata": {
        "colab": {
          "base_uri": "https://localhost:8080/"
        },
        "id": "4t7_bkSI4Sz6",
        "outputId": "be7e693a-4255-4174-b819-e758f129eda6"
      },
      "execution_count": 28,
      "outputs": [
        {
          "output_type": "stream",
          "name": "stdout",
          "text": [
            "234 : 12155\n",
            "245 : sdfggg\n"
          ]
        }
      ]
    },
    {
      "cell_type": "code",
      "source": [
        "s=\"aaaabbccd\""
      ],
      "metadata": {
        "id": "pol6qWQS5jwU"
      },
      "execution_count": 34,
      "outputs": []
    },
    {
      "cell_type": "code",
      "source": [
        "set(s)"
      ],
      "metadata": {
        "colab": {
          "base_uri": "https://localhost:8080/"
        },
        "id": "RFGcourQ7-q2",
        "outputId": "f8ce4da4-0c4a-4f25-97e8-ac11721db612"
      },
      "execution_count": 33,
      "outputs": [
        {
          "output_type": "execute_result",
          "data": {
            "text/plain": [
              "{'a', 'b', 'c', 'd'}"
            ]
          },
          "metadata": {},
          "execution_count": 33
        }
      ]
    },
    {
      "cell_type": "code",
      "source": [
        "for i in set(s):\n",
        "  print(i,\":\",s.count(i))"
      ],
      "metadata": {
        "colab": {
          "base_uri": "https://localhost:8080/"
        },
        "id": "d0VQOLv38wzD",
        "outputId": "fcb1d822-6281-47e1-bddc-d77a5abfaad7"
      },
      "execution_count": 35,
      "outputs": [
        {
          "output_type": "stream",
          "name": "stdout",
          "text": [
            "d : 1\n",
            "c : 2\n",
            "b : 2\n",
            "a : 4\n"
          ]
        }
      ]
    },
    {
      "cell_type": "code",
      "source": [
        "i=2525465268552"
      ],
      "metadata": {
        "id": "k8e4h6lK9Snc"
      },
      "execution_count": 36,
      "outputs": []
    },
    {
      "cell_type": "code",
      "source": [
        "for j in i:                  # int' object is not iterable so in next slide we will convert this into a string\n",
        "  print(j)"
      ],
      "metadata": {
        "colab": {
          "base_uri": "https://localhost:8080/",
          "height": 183
        },
        "id": "HjghYxU6-Y1r",
        "outputId": "9bffe17a-8126-47e2-ec7a-0289c7dfe137"
      },
      "execution_count": 37,
      "outputs": [
        {
          "output_type": "error",
          "ename": "TypeError",
          "evalue": "ignored",
          "traceback": [
            "\u001b[0;31m---------------------------------------------------------------------------\u001b[0m",
            "\u001b[0;31mTypeError\u001b[0m                                 Traceback (most recent call last)",
            "\u001b[0;32m<ipython-input-37-54417e1dc6de>\u001b[0m in \u001b[0;36m<cell line: 1>\u001b[0;34m()\u001b[0m\n\u001b[0;32m----> 1\u001b[0;31m \u001b[0;32mfor\u001b[0m \u001b[0mj\u001b[0m \u001b[0;32min\u001b[0m \u001b[0mi\u001b[0m\u001b[0;34m:\u001b[0m\u001b[0;34m\u001b[0m\u001b[0;34m\u001b[0m\u001b[0m\n\u001b[0m\u001b[1;32m      2\u001b[0m   \u001b[0mprint\u001b[0m\u001b[0;34m(\u001b[0m\u001b[0mj\u001b[0m\u001b[0;34m)\u001b[0m\u001b[0;34m\u001b[0m\u001b[0;34m\u001b[0m\u001b[0m\n",
            "\u001b[0;31mTypeError\u001b[0m: 'int' object is not iterable"
          ]
        }
      ]
    },
    {
      "cell_type": "code",
      "source": [
        "str(i)"
      ],
      "metadata": {
        "colab": {
          "base_uri": "https://localhost:8080/",
          "height": 35
        },
        "id": "3WkllWUWLDlJ",
        "outputId": "f299d27e-ab42-4a05-cfed-f15eddbc5da5"
      },
      "execution_count": 38,
      "outputs": [
        {
          "output_type": "execute_result",
          "data": {
            "text/plain": [
              "'2525465268552'"
            ],
            "application/vnd.google.colaboratory.intrinsic+json": {
              "type": "string"
            }
          },
          "metadata": {},
          "execution_count": 38
        }
      ]
    },
    {
      "cell_type": "code",
      "source": [
        "for j in str(i):\n",
        "  print(j)"
      ],
      "metadata": {
        "colab": {
          "base_uri": "https://localhost:8080/"
        },
        "id": "5Rgz4izsLk6l",
        "outputId": "a79dc795-97ce-45f3-b026-1e5f5e8af85f"
      },
      "execution_count": 39,
      "outputs": [
        {
          "output_type": "stream",
          "name": "stdout",
          "text": [
            "2\n",
            "5\n",
            "2\n",
            "5\n",
            "4\n",
            "6\n",
            "5\n",
            "2\n",
            "6\n",
            "8\n",
            "5\n",
            "5\n",
            "2\n"
          ]
        }
      ]
    },
    {
      "cell_type": "code",
      "source": [
        "for j in str(i):\n",
        "  print(j,type(j))"
      ],
      "metadata": {
        "colab": {
          "base_uri": "https://localhost:8080/"
        },
        "id": "D6efNMlPLp7H",
        "outputId": "a1ce80d9-d042-4cca-d3f8-9bcbedc81c40"
      },
      "execution_count": 42,
      "outputs": [
        {
          "output_type": "stream",
          "name": "stdout",
          "text": [
            "2 <class 'str'>\n",
            "5 <class 'str'>\n",
            "2 <class 'str'>\n",
            "5 <class 'str'>\n",
            "4 <class 'str'>\n",
            "6 <class 'str'>\n",
            "5 <class 'str'>\n",
            "2 <class 'str'>\n",
            "6 <class 'str'>\n",
            "8 <class 'str'>\n",
            "5 <class 'str'>\n",
            "5 <class 'str'>\n",
            "2 <class 'str'>\n"
          ]
        }
      ]
    },
    {
      "cell_type": "code",
      "source": [
        "t=(\"ravi\",\"gurjar\",[4,5,3,6,5],(1,2,3,4),{3:3,\"ravi\":\"gurjar\",\"school\":\"tps\",})"
      ],
      "metadata": {
        "id": "6NLrZ_BRL4Zu"
      },
      "execution_count": 58,
      "outputs": []
    },
    {
      "cell_type": "code",
      "source": [
        "for i in t:\n",
        "  if type(i) == list or type(i)== tuple:\n",
        "    for j in i:\n",
        "      if j == 3:\n",
        "        print(j)\n",
        "    "
      ],
      "metadata": {
        "colab": {
          "base_uri": "https://localhost:8080/"
        },
        "id": "EADO-_F4M3po",
        "outputId": "af3a71d0-d9fa-4726-b213-ffb2497bb140"
      },
      "execution_count": 47,
      "outputs": [
        {
          "output_type": "stream",
          "name": "stdout",
          "text": [
            "3\n",
            "3\n"
          ]
        }
      ]
    },
    {
      "cell_type": "code",
      "source": [
        "a=10\n",
        "b=20\n",
        "c=30"
      ],
      "metadata": {
        "id": "8jWoMlvGNdnW"
      },
      "execution_count": 48,
      "outputs": []
    },
    {
      "cell_type": "markdown",
      "source": [
        "all these three are same way to write"
      ],
      "metadata": {
        "id": "hWnVr3XMQ2y1"
      }
    },
    {
      "cell_type": "code",
      "source": [
        "a,b,c=10,20,30"
      ],
      "metadata": {
        "id": "wuL35gG3QqH9"
      },
      "execution_count": 49,
      "outputs": []
    },
    {
      "cell_type": "code",
      "source": [
        "a,b,c=(10,20,30)"
      ],
      "metadata": {
        "id": "LP0sDs0aQufd"
      },
      "execution_count": 50,
      "outputs": []
    },
    {
      "cell_type": "code",
      "source": [
        "t"
      ],
      "metadata": {
        "colab": {
          "base_uri": "https://localhost:8080/"
        },
        "id": "y2H_1JvqQz1A",
        "outputId": "924331d7-561d-45ac-dff1-f7582ff18cc0"
      },
      "execution_count": 51,
      "outputs": [
        {
          "output_type": "execute_result",
          "data": {
            "text/plain": [
              "('ravi',\n",
              " 'gurjar',\n",
              " [4, 5, 3, 6, 5],\n",
              " (1, 2, 3, 4),\n",
              " {'ravi': 'gurjar', 'school': 'tps'})"
            ]
          },
          "metadata": {},
          "execution_count": 51
        }
      ]
    },
    {
      "cell_type": "code",
      "source": [
        "for i in t:\n",
        "  if type(i) == list or type(i)== tuple:\n",
        "    for j in i:\n",
        "      if j == 3:\n",
        "        print(j)"
      ],
      "metadata": {
        "colab": {
          "base_uri": "https://localhost:8080/"
        },
        "id": "_6Clg3o5RZV-",
        "outputId": "e718e1d8-d6ea-45a3-b035-0313f9ee45d8"
      },
      "execution_count": 52,
      "outputs": [
        {
          "output_type": "stream",
          "name": "stdout",
          "text": [
            "3\n",
            "3\n"
          ]
        }
      ]
    },
    {
      "cell_type": "markdown",
      "source": [
        "If we have to extract all three in this touple than"
      ],
      "metadata": {
        "id": "c42z2y5YRgir"
      }
    },
    {
      "cell_type": "code",
      "source": [
        "for i in t:\n",
        "  if type(i)==list or type(i)== tuple:\n",
        "    for j in i:\n",
        "     if j == 3:\n",
        "      print(j)\n",
        "  if type(i)==dict:\n",
        "    for k,v in i.items():\n",
        "      if k==3 or v==3:\n",
        "       print(k)\n",
        "       print(v)    "
      ],
      "metadata": {
        "colab": {
          "base_uri": "https://localhost:8080/"
        },
        "id": "XE2QgZMnRcWE",
        "outputId": "95b8a4d7-b0e3-4cfe-8dcc-b08e09c3d21d"
      },
      "execution_count": 59,
      "outputs": [
        {
          "output_type": "stream",
          "name": "stdout",
          "text": [
            "3\n",
            "3\n",
            "3\n",
            "3\n"
          ]
        }
      ]
    },
    {
      "cell_type": "code",
      "source": [],
      "metadata": {
        "id": "o5JdKCIxSbk8"
      },
      "execution_count": null,
      "outputs": []
    }
  ]
}